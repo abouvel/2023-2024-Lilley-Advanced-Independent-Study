{
  "cells": [
    {
      "cell_type": "markdown",
      "metadata": {
        "id": "ju5guT2PYPf_"
      },
      "source": [
        "## Visualizing the embeddings in 2D\n",
        "\n",
        "I updated the syntax for June 2024. Implimented a feature where it would dispalay a summery of every wikipedia article visualized using concurrent calls of the openAi API I also aded an html download for the document.",
        "\n\n",
        "We will use t-SNE to reduce the dimensionality of the embeddings from 1536 to 2. Once the embeddings are reduced to two dimensions, we can plot them in a 2D scatter plot. The dataset is created in the [Get_embeddings_from_dataset Notebook](Get_embeddings_from_dataset.ipynb)."
      ]
    },
    {
      "cell_type": "code",
      "source": [
        "from google.colab import drive\n",
        "drive.mount('/content/drive')"
      ],
      "metadata": {
        "colab": {
          "base_uri": "https://localhost:8080/"
        },
        "id": "44OGhIbnymt5",
        "outputId": "14ab24ff-f716-4445-d45e-ef8b185cd6fc"
      },
      "execution_count": 4,
      "outputs": [
        {
          "output_type": "stream",
          "name": "stdout",
          "text": [
            "Mounted at /content/drive\n"
          ]
        }
      ]
    },
    {
      "cell_type": "code",
      "source": [
        "!openai migrate\n",
        "\n"
      ],
      "metadata": {
        "colab": {
          "base_uri": "https://localhost:8080/"
        },
        "id": "3nvFG1cAtRi-",
        "outputId": "eed00a48-bcb1-404f-a66b-b056c3abca4c"
      },
      "execution_count": 2,
      "outputs": [
        {
          "output_type": "stream",
          "name": "stdout",
          "text": [
            "/bin/bash: line 1: openai: command not found\n"
          ]
        }
      ]
    },
    {
      "cell_type": "code",
      "source": [
        "!pip install --upgrade tiktoken\n",
        "!pip install --upgrade openai"
      ],
      "metadata": {
        "colab": {
          "base_uri": "https://localhost:8080/"
        },
        "id": "CWbJlosCUmiX",
        "outputId": "b0febd8d-7dab-493a-ee67-a91b1ca8a69c"
      },
      "execution_count": 3,
      "outputs": [
        {
          "output_type": "stream",
          "name": "stdout",
          "text": [
            "Collecting tiktoken\n",
            "  Downloading tiktoken-0.7.0-cp310-cp310-manylinux_2_17_x86_64.manylinux2014_x86_64.whl (1.1 MB)\n",
            "\u001b[2K     \u001b[90m━━━━━━━━━━━━━━━━━━━━━━━━━━━━━━━━━━━━━━━━\u001b[0m \u001b[32m1.1/1.1 MB\u001b[0m \u001b[31m5.2 MB/s\u001b[0m eta \u001b[36m0:00:00\u001b[0m\n",
            "\u001b[?25hRequirement already satisfied: regex>=2022.1.18 in /usr/local/lib/python3.10/dist-packages (from tiktoken) (2024.5.15)\n",
            "Requirement already satisfied: requests>=2.26.0 in /usr/local/lib/python3.10/dist-packages (from tiktoken) (2.31.0)\n",
            "Requirement already satisfied: charset-normalizer<4,>=2 in /usr/local/lib/python3.10/dist-packages (from requests>=2.26.0->tiktoken) (3.3.2)\n",
            "Requirement already satisfied: idna<4,>=2.5 in /usr/local/lib/python3.10/dist-packages (from requests>=2.26.0->tiktoken) (3.7)\n",
            "Requirement already satisfied: urllib3<3,>=1.21.1 in /usr/local/lib/python3.10/dist-packages (from requests>=2.26.0->tiktoken) (2.0.7)\n",
            "Requirement already satisfied: certifi>=2017.4.17 in /usr/local/lib/python3.10/dist-packages (from requests>=2.26.0->tiktoken) (2024.6.2)\n",
            "Installing collected packages: tiktoken\n",
            "Successfully installed tiktoken-0.7.0\n",
            "Collecting openai\n",
            "  Downloading openai-1.34.0-py3-none-any.whl (325 kB)\n",
            "\u001b[2K     \u001b[90m━━━━━━━━━━━━━━━━━━━━━━━━━━━━━━━━━━━━━━━━\u001b[0m \u001b[32m325.5/325.5 kB\u001b[0m \u001b[31m1.2 MB/s\u001b[0m eta \u001b[36m0:00:00\u001b[0m\n",
            "\u001b[?25hRequirement already satisfied: anyio<5,>=3.5.0 in /usr/local/lib/python3.10/dist-packages (from openai) (3.7.1)\n",
            "Requirement already satisfied: distro<2,>=1.7.0 in /usr/lib/python3/dist-packages (from openai) (1.7.0)\n",
            "Collecting httpx<1,>=0.23.0 (from openai)\n",
            "  Downloading httpx-0.27.0-py3-none-any.whl (75 kB)\n",
            "\u001b[2K     \u001b[90m━━━━━━━━━━━━━━━━━━━━━━━━━━━━━━━━━━━━━━━━\u001b[0m \u001b[32m75.6/75.6 kB\u001b[0m \u001b[31m6.6 MB/s\u001b[0m eta \u001b[36m0:00:00\u001b[0m\n",
            "\u001b[?25hRequirement already satisfied: pydantic<3,>=1.9.0 in /usr/local/lib/python3.10/dist-packages (from openai) (2.7.3)\n",
            "Requirement already satisfied: sniffio in /usr/local/lib/python3.10/dist-packages (from openai) (1.3.1)\n",
            "Requirement already satisfied: tqdm>4 in /usr/local/lib/python3.10/dist-packages (from openai) (4.66.4)\n",
            "Requirement already satisfied: typing-extensions<5,>=4.7 in /usr/local/lib/python3.10/dist-packages (from openai) (4.12.2)\n",
            "Requirement already satisfied: idna>=2.8 in /usr/local/lib/python3.10/dist-packages (from anyio<5,>=3.5.0->openai) (3.7)\n",
            "Requirement already satisfied: exceptiongroup in /usr/local/lib/python3.10/dist-packages (from anyio<5,>=3.5.0->openai) (1.2.1)\n",
            "Requirement already satisfied: certifi in /usr/local/lib/python3.10/dist-packages (from httpx<1,>=0.23.0->openai) (2024.6.2)\n",
            "Collecting httpcore==1.* (from httpx<1,>=0.23.0->openai)\n",
            "  Downloading httpcore-1.0.5-py3-none-any.whl (77 kB)\n",
            "\u001b[2K     \u001b[90m━━━━━━━━━━━━━━━━━━━━━━━━━━━━━━━━━━━━━━━━\u001b[0m \u001b[32m77.9/77.9 kB\u001b[0m \u001b[31m7.9 MB/s\u001b[0m eta \u001b[36m0:00:00\u001b[0m\n",
            "\u001b[?25hCollecting h11<0.15,>=0.13 (from httpcore==1.*->httpx<1,>=0.23.0->openai)\n",
            "  Downloading h11-0.14.0-py3-none-any.whl (58 kB)\n",
            "\u001b[2K     \u001b[90m━━━━━━━━━━━━━━━━━━━━━━━━━━━━━━━━━━━━━━━━\u001b[0m \u001b[32m58.3/58.3 kB\u001b[0m \u001b[31m5.1 MB/s\u001b[0m eta \u001b[36m0:00:00\u001b[0m\n",
            "\u001b[?25hRequirement already satisfied: annotated-types>=0.4.0 in /usr/local/lib/python3.10/dist-packages (from pydantic<3,>=1.9.0->openai) (0.7.0)\n",
            "Requirement already satisfied: pydantic-core==2.18.4 in /usr/local/lib/python3.10/dist-packages (from pydantic<3,>=1.9.0->openai) (2.18.4)\n",
            "Installing collected packages: h11, httpcore, httpx, openai\n",
            "Successfully installed h11-0.14.0 httpcore-1.0.5 httpx-0.27.0 openai-1.34.0\n"
          ]
        }
      ]
    },
    {
      "cell_type": "markdown",
      "source": [],
      "metadata": {
        "id": "QREq3SxO6GUA"
      }
    },
    {
      "cell_type": "code",
      "source": [
        "!pip install openai --upgrade\n",
        "!openai migrate"
      ],
      "metadata": {
        "colab": {
          "base_uri": "https://localhost:8080/"
        },
        "id": "d5IBmnOlWFs8",
        "outputId": "bbede24c-6673-4853-9eda-e9075157cd36"
      },
      "execution_count": 5,
      "outputs": [
        {
          "output_type": "stream",
          "name": "stdout",
          "text": [
            "Requirement already satisfied: openai in /usr/local/lib/python3.10/dist-packages (1.34.0)\n",
            "Requirement already satisfied: anyio<5,>=3.5.0 in /usr/local/lib/python3.10/dist-packages (from openai) (3.7.1)\n",
            "Requirement already satisfied: distro<2,>=1.7.0 in /usr/lib/python3/dist-packages (from openai) (1.7.0)\n",
            "Requirement already satisfied: httpx<1,>=0.23.0 in /usr/local/lib/python3.10/dist-packages (from openai) (0.27.0)\n",
            "Requirement already satisfied: pydantic<3,>=1.9.0 in /usr/local/lib/python3.10/dist-packages (from openai) (2.7.3)\n",
            "Requirement already satisfied: sniffio in /usr/local/lib/python3.10/dist-packages (from openai) (1.3.1)\n",
            "Requirement already satisfied: tqdm>4 in /usr/local/lib/python3.10/dist-packages (from openai) (4.66.4)\n",
            "Requirement already satisfied: typing-extensions<5,>=4.7 in /usr/local/lib/python3.10/dist-packages (from openai) (4.12.2)\n",
            "Requirement already satisfied: idna>=2.8 in /usr/local/lib/python3.10/dist-packages (from anyio<5,>=3.5.0->openai) (3.7)\n",
            "Requirement already satisfied: exceptiongroup in /usr/local/lib/python3.10/dist-packages (from anyio<5,>=3.5.0->openai) (1.2.1)\n",
            "Requirement already satisfied: certifi in /usr/local/lib/python3.10/dist-packages (from httpx<1,>=0.23.0->openai) (2024.6.2)\n",
            "Requirement already satisfied: httpcore==1.* in /usr/local/lib/python3.10/dist-packages (from httpx<1,>=0.23.0->openai) (1.0.5)\n",
            "Requirement already satisfied: h11<0.15,>=0.13 in /usr/local/lib/python3.10/dist-packages (from httpcore==1.*->httpx<1,>=0.23.0->openai) (0.14.0)\n",
            "Requirement already satisfied: annotated-types>=0.4.0 in /usr/local/lib/python3.10/dist-packages (from pydantic<3,>=1.9.0->openai) (0.7.0)\n",
            "Requirement already satisfied: pydantic-core==2.18.4 in /usr/local/lib/python3.10/dist-packages (from pydantic<3,>=1.9.0->openai) (2.18.4)\n",
            "Retrieving Grit CLI metadata from https://api.keygen.sh/v1/accounts/custodian-dev/artifacts/marzano-linux-x64\n",
            "Fetching release URL from: https://api.keygen.sh//v1/accounts/custodian-dev/artifacts/gouda-linux-x64\n",
            "Fetching release URL from: https://api.keygen.sh//v1/accounts/custodian-dev/artifacts/marzano-linux-x64\n",
            "Fetching release URL from: https://api.keygen.sh//v1/accounts/custodian-dev/artifacts/workflow_runner-linux-x64\n",
            "Fetching release URL from: https://api.keygen.sh//v1/accounts/custodian-dev/artifacts/cli-linux-x64\n",
            "Fetching release URL from: https://api.keygen.sh//v1/accounts/custodian-dev/artifacts/timekeeper-linux-x64\n",
            "\n",
            "\u001b[2K\u001b[1A\n",
            "\u001b[2K\u001b[1A\n",
            "\u001b[1m\u001b[2mAnalyzing\u001b[0m \u001b[1m\u001b[2mFinding files                                                         \u001b[0m\n",
            "\u001b[2K\u001b[2AProcessed 0 files and found 0 matches\n"
          ]
        }
      ]
    },
    {
      "cell_type": "markdown",
      "metadata": {
        "id": "D0jpccC2YPgC"
      },
      "source": [
        "### 1. Reduce dimensionality\n",
        "\n",
        "We reduce the dimensionality to 2 dimensions using t-SNE decomposition."
      ]
    },
    {
      "cell_type": "code",
      "source": [
        "import pandas as pd\n",
        "from sklearn.manifold import TSNE\n",
        "import numpy as np\n",
        "from ast import literal_eval\n",
        "\n",
        "# Load the embeddings\n",
        "datafile_path = \"/content/drive/MyDrive/eaAlumniEmbedded.csv\"\n",
        "df = pd.read_csv(datafile_path)\n",
        "FName = \"\"\n",
        "indexa =0\n",
        "bad = []\n",
        "a = []\n",
        "for i in range(len(df)-1):\n",
        "  a.append(i)\n",
        "  if df.text.iloc[i].split('\\n')[0] == FName:\n",
        "    bad.append(i)\n",
        "    df.text.iloc[indexa]= df.text.iloc[indexa]+df.text.iloc[i]\n",
        "\n",
        "  else:\n",
        "    FName =df.text.iloc[i].split('\\n')[0]\n",
        "    indexa=i\n",
        "df = df.drop(bad)\n",
        "print(df)\n",
        "\n"
      ],
      "metadata": {
        "colab": {
          "base_uri": "https://localhost:8080/"
        },
        "id": "DsUe7iVZ58vO",
        "outputId": "488667a5-62b8-4c3c-e384-4715bd5a22a3"
      },
      "execution_count": 6,
      "outputs": [
        {
          "output_type": "stream",
          "name": "stdout",
          "text": [
            "                                                  text  \\\n",
            "0    George Munger (American football)\\n\\n{{Short d...   \n",
            "9    Jerome Allen (basketball)\\n\\n{{Short descripti...   \n",
            "21   Alan W. Lukens\\n\\n{{Short description|American...   \n",
            "24   Henry G. Morse\\n\\n{{short description|American...   \n",
            "29   Robert Venturi\\n\\n{{short description|American...   \n",
            "38   Morrison Heckscher\\n\\n{{Short description|Amer...   \n",
            "44   Brian Dougherty\\n\\n{{Short description|America...   \n",
            "53   George David\\n\\n{{Short description|American b...   \n",
            "55   Gerald Henderson Jr.\\n\\n{{Short description|Am...   \n",
            "65   John Yoo\\n\\n{{Short description|American attor...   \n",
            "81   Britton Chance Jr.\\n\\n{{Short description|Amer...   \n",
            "99   Kyle Eckel\\n\\n{{Short description|American foo...   \n",
            "107  Maury Henry Biddle Paul\\n\\n{{short description...   \n",
            "110  Charles L. Tutt Sr.\\n\\n{{more footnotes needed...   \n",
            "114  Edward Vick\\n\\n{{Infobox person\\n|name        ...   \n",
            "120  Anthony Apesos\\n\\n{{Short description|American...   \n",
            "126  R. W. B. Lewis\\n\\n{{Other people|Richard Lewis...   \n",
            "132  Bruiser Flint\\n\\n{{short description|American ...   \n",
            "139  Boies Penrose\\n\\n{{short description|United St...   \n",
            "145  Benjamin H. Read\\n\\n{{short description|Americ...   \n",
            "147  Robert A. Masciantonio\\n\\n{{short description|...   \n",
            "149  Lionel Barrymore\\n\\n{{short description|Americ...   \n",
            "160  Ralph Earle (ambassador)\\n\\n{{Short descriptio...   \n",
            "164  Laird Cregar\\n\\n{{Short description|American a...   \n",
            "172  John Charles Groome (police officer)\\n\\n{{For|...   \n",
            "174  Charles Bingham Penrose\\n\\n{{Use mdy dates|dat...   \n",
            "184  Richard Harding Davis\\n\\n{{Short description|A...   \n",
            "191  Peter Y. Solmssen\\n\\n{{Short description|Ameri...   \n",
            "199  Brian Tierney\\n\\n{{Short description|American ...   \n",
            "206  M. Night Shyamalan\\n\\n{{Short description|Amer...   \n",
            "222  Greg Isdaner\\n\\n{{Short description|American f...   \n",
            "226  Sarah Steele\\n\\n{{short description|American a...   \n",
            "232  List of Episcopal Academy people\\n\\n{{Short de...   \n",
            "239  John C. Haas\\n\\n{{Short description|American b...   \n",
            "246  Wayne Ellington\\n\\n{{Short description|America...   \n",
            "265  Harold Bright Maynard\\n\\n{{short description|A...   \n",
            "268  Spencer Penrose\\n\\n{{Use mdy dates|date=Septem...   \n",
            "273  Thomas K. Finletter\\n\\n{{Short description|Ame...   \n",
            "281  Mark Kendall (artist)\\n\\n{{short description|A...   \n",
            "285  Eddie Collins Jr.\\n\\n{{short description|Ameri...   \n",
            "289  Walter Horstmann Thomas\\n\\n{{short description...   \n",
            "312  John C. Bell Jr.\\n\\n{{Short description|Americ...   \n",
            "316  Louisa Hall\\n\\n{{short description|American no...   \n",
            "320  John Carradine\\n\\n{{short description|American...   \n",
            "328  Scott Murphy (physician)\\n\\n'''Scott Murphy'''...   \n",
            "330  Scott Murphy (physician)\\n\\n==Selected publica...   \n",
            "\n",
            "                                             embedding  \n",
            "0    [-0.01923518069088459, -0.022236231714487076, ...  \n",
            "9    [-0.020962683483958244, -0.016929863020777702,...  \n",
            "21   [-0.014303456991910934, -0.002149680396541953,...  \n",
            "24   [-0.027339061722159386, -0.0023331462871283293...  \n",
            "29   [-0.01673637330532074, 0.0009423334849998355, ...  \n",
            "38   [-0.024051085114479065, -0.017733827233314514,...  \n",
            "44   [-0.042407333850860596, -0.01435241848230362, ...  \n",
            "53   [-0.020962361246347427, -0.01470513641834259, ...  \n",
            "55   [-0.020228547975420952, -0.007622259669005871,...  \n",
            "65   [-0.026336632668972015, -0.006687243469059467,...  \n",
            "81   [-0.02496720850467682, -0.007909665815532207, ...  \n",
            "99   [-0.01265060156583786, -0.014372127130627632, ...  \n",
            "107  [-0.03157554566860199, 0.017218295484781265, 0...  \n",
            "110  [-0.01895298808813095, 0.004141043871641159, 0...  \n",
            "114  [-0.04155697673559189, -0.0025020272005349398,...  \n",
            "120  [-0.026414655148983, 0.005082296673208475, -0....  \n",
            "126  [-0.014937142841517925, 0.005053427070379257, ...  \n",
            "132  [-0.02530021406710148, -0.01282627321779728, -...  \n",
            "139  [-0.04669254273176193, -0.025775974616408348, ...  \n",
            "145  [-0.030017700046300888, -0.01199510507285595, ...  \n",
            "147  [-0.037045568227767944, -0.012683219276368618,...  \n",
            "149  [-0.04224938154220581, -0.021111786365509033, ...  \n",
            "160  [-0.032296955585479736, -0.010774326510727406,...  \n",
            "164  [-0.017472732812166214, -0.008351621218025684,...  \n",
            "172  [0.004013191908597946, 0.007452605292201042, 0...  \n",
            "174  [-0.01755029521882534, 0.01619001477956772, 0....  \n",
            "184  [-0.03572991117835045, 0.00860016793012619, 0....  \n",
            "191  [0.0018754040356725454, -0.018273690715432167,...  \n",
            "199  [-0.01076726894825697, -0.013662836514413357, ...  \n",
            "206  [-0.010139614343643188, -0.02427998185157776, ...  \n",
            "222  [-0.014323335140943527, -0.019177576526999474,...  \n",
            "226  [-0.02787182293832302, 0.00495403865352273, -0...  \n",
            "232  [0.0004242470895405859, 0.014376059174537659, ...  \n",
            "239  [-0.024662164971232414, -0.0034184351097792387...  \n",
            "246  [-0.03239630162715912, -0.020544931292533875, ...  \n",
            "265  [-0.018228385597467422, -0.024786818772554398,...  \n",
            "268  [-0.035291388630867004, 0.0071845101192593575,...  \n",
            "273  [-0.029692772775888443, -0.01916993223130703, ...  \n",
            "281  [-0.02529582940042019, -0.005214371718466282, ...  \n",
            "285  [-0.02072291634976864, 0.005187311675399542, 0...  \n",
            "289  [-0.02312234602868557, 0.008952498435974121, -...  \n",
            "312  [-0.028900858014822006, -0.0004568220756482333...  \n",
            "316  [-0.042515985667705536, 0.022265858948230743, ...  \n",
            "320  [0.007790869101881981, 0.004281468689441681, 0...  \n",
            "328  [-0.02315748669207096, -0.006916420999914408, ...  \n",
            "330  [-0.00742463069036603, -0.00988165382295847, 0...  \n"
          ]
        }
      ]
    },
    {
      "cell_type": "code",
      "source": [
        "import tiktoken\n",
        "import pandas as pd\n",
        "encoding = tiktoken.get_encoding(\"cl100k_base\")\n",
        "encoding = tiktoken.encoding_for_model(\"gpt-3.5-turbo\")\n",
        "\n",
        "def num_tokens_from_string(string: str, encoding_name: str) -> int:\n",
        "    \"\"\"Returns the number of tokens in a text string.\"\"\"\n",
        "    encoding = tiktoken.get_encoding(encoding_name)\n",
        "    num_tokens = len(encoding.encode(string))\n",
        "    return num_tokens\n",
        "\n",
        "prompts = []\n",
        "longs = []\n",
        "for i in range(len(df)):\n",
        "  prompts.append(\"Summarize this persons life description in 1 textual sentence with line breaks every 10 words focusing on their occupation and work primarily, also say when they graduated from or attended EA \"+ df.text.iloc[i])\n",
        "  maxToken = 3900\n",
        "  numt =  num_tokens_from_string (prompts[i], \"cl100k_base\")\n",
        "  while numt >maxToken:\n",
        "    print(str(i) + \": \"+ str(numt)+ \": \"+ str(len(prompts[i]))+ \": \"+ str(len(prompts[i])/numt))\n",
        "    #prompts[i] = prompts[i][:len]\n",
        "    tokenDiff = numt-maxToken\n",
        "    charsToRemove = int(tokenDiff*3.7)\n",
        "    prompts[i] = prompts[i][:len(prompts[i])-charsToRemove]\n",
        "    numt =  num_tokens_from_string (prompts[i], \"cl100k_base\")\n",
        "\n",
        "\n",
        "prompts2= prompts[1:4]\n",
        "\n",
        "\n",
        "\n"
      ],
      "metadata": {
        "colab": {
          "base_uri": "https://localhost:8080/"
        },
        "id": "ZZH4LJ6uSjgT",
        "outputId": "3d9d47ec-32c3-4336-90fb-e707194a0d83"
      },
      "execution_count": 7,
      "outputs": [
        {
          "output_type": "stream",
          "name": "stdout",
          "text": [
            "4: 4392: 17847: 4.063524590163935\n",
            "9: 6037: 27308: 4.523438794103031\n",
            "9: 4308: 19402: 4.503714020427112\n",
            "9: 3981: 17893: 4.494599346897765\n",
            "9: 3924: 17594: 4.483690112130479\n",
            "9: 3906: 17506: 4.4818228366615465\n",
            "9: 3901: 17484: 4.481927710843373\n",
            "10: 6078: 23301: 3.8336623889437313\n",
            "10: 3991: 15243: 3.8193435229265846\n",
            "21: 5008: 19378: 3.8694089456869007\n",
            "21: 3996: 15279: 3.8235735735735736\n",
            "21: 3906: 14924: 3.8207885304659497\n",
            "26: 4644: 16322: 3.5146425495262705\n",
            "29: 7898: 29237: 3.7018232463914913\n",
            "34: 5143: 16728: 3.2525763173245186\n",
            "40: 5100: 19846: 3.891372549019608\n",
            "43: 5746: 21716: 3.7793247476505396\n",
            "43: 3957: 14886: 3.76194086429113\n",
            "43: 3905: 14676: 3.758258642765685\n"
          ]
        }
      ]
    },
    {
      "cell_type": "code",
      "source": [
        "print(prompts2)"
      ],
      "metadata": {
        "colab": {
          "base_uri": "https://localhost:8080/"
        },
        "id": "ZSxiG7mHRAWX",
        "outputId": "cae9db83-9bfc-4c09-a3ce-d496e243af64"
      },
      "execution_count": 8,
      "outputs": [
        {
          "output_type": "stream",
          "name": "stdout",
          "text": [
            "['Summarize this persons life description in 1 textual sentence with line breaks every 10 words focusing on their occupation and work primarily, also say when they graduated from or attended EA Jerome Allen (basketball)\\n\\n{{Short description|American basketball player and coach}}\\n{{Use mdy dates|date=June 2022}}\\n{{Infobox basketball biography\\n| name            = Jerome Allen\\n| image           = \\n| width           =\\n| caption         =\\n| league          = [[National Basketball Association|NBA]]\\n| team            = \\n| position        = Assistant coach\\n| height_ft       = 6\\n| height_in       = 4\\n| weight_lb       = 184\\n| birth_date      = {{birth date and age|1973|01|28}}\\n| birth_place     = [[Philadelphia|Philadelphia, Pennsylvania]], U.S.\\n| high_school     = [[Episcopal Academy]]<br />([[Merion, Pennsylvania]])\\n| college         = [[Penn Quakers men\\'s basketball|Penn]] (1991–1995)\\n| draft_year      = 1995\\n| draft_round     = 2\\n| draft_pick      = 49\\n| draft_team      = [[Minnesota Timberwolves]]\\n| career_start    = 1995\\n| career_end      = 2009\\n| career_number   = 53\\n| career_position = [[Point guard]]\\n| coach_start     = 2009\\n| coach_end       =\\n| years1          = {{nbay|1995|full=y}}\\n| team1           = [[Minnesota Timberwolves]]\\n| years2          = {{nbay|1996|full=y}}\\n| team2           = [[Indiana Pacers]]\\n| years3          = 1997\\n| team3           = [[Denver Nuggets]]\\n| years4          = 1997–1999\\n| team4           = [[CSP Limoges]]\\n| years5          = 1999–2000\\n| team5           = [[Ülkerspor]]\\n| years6          = 2000–2002\\n| team6           = [[Pallacanestro Virtus Roma|Virtus Roma]]\\n| years7          = 2002–2003\\n| team7           = [[Saski Baskonia|Tau Cerámica]]\\n| years8          = 2003\\n| team8           = [[Pallalcesto Amatori Udine|Snaidero Cucine Udine]]\\n| years9          = 2003–2005\\n| team9           = [[Basket Napoli|Napoli]]\\n| years10         = 2006\\n| team10          = [[PAOK B.C.|PAOK Thessaloniki]]\\n| years11         = 2006–2008\\n| team11          = Snaidero Cucine Udine\\n| years12         = 2008–2009\\n| team12          = [[Societa Veroli Basket|Veroli Basket]]\\n| years13         = 2009\\n| team13          = Snaidero Cucine Udine\\n| cyears1         = 2009\\n| cteam1          = Snaidero Cucine Udine\\n| cyears2         = 2009–2015\\n| cteam2          = [[Penn Quakers men\\'s basketball|Penn]]\\n| cyears3         = {{nbay|2015|start}}–{{nbay|2020|end}}\\n| cteam3          = [[Boston Celtics]] (assistant)\\n| cyears4         = {{nbay|2021|start}}–{{nbay|2022|end}}\\n| cteam4          = [[Detroit Pistons]] (assistant)\\n| highlights      = \\n* [[Italian Basketball Supercup|Italian Supercup]] MVP (2000)\\n* 2× [[Ivy League Men\\'s Basketball Player of the Year|Ivy League Player of the Year]] (1992, 1993)\\n| stats_league    = NBA\\n| stat1label      = [[Point (basketball)|Points]]\\n| stat1value      = 336 (2.9 ppg)\\n| stat2label      = [[Rebound (basketball)|Rebounds]]\\n| stat2value      = 123 (1.1 rpg)\\n| stat3label      = [[Assist (basketball)|Assists]]\\n| stat3value      = 201 (1.7 apg)\\n| medaltemplates  = \\n{{MedalSport | Men\\'s [[basketball]]}}\\n{{MedalCountry|{{USA}}}}\\n{{MedalCompetition|[[Goodwill Games]]}}\\n{{MedalBronze| [[1994 Goodwill Games|1994 St. Petersburg]] | [[United States national basketball team|National team]]}}\\n}}\\n\\'\\'\\'Jerome Byron Allen\\'\\'\\' (born January 28, 1973) is an American former professional basketball player and college head coach. He is the former head coach for the [[University of Pennsylvania]] men\\'s basketball team, until resigning after the 2014–15 season. He is serves an assistant coach for the [[Detroit Pistons]] of the [[National Basketball Association]] (NBA).Jerome Allen (basketball)\\n\\n==Early life==\\n\\nAllen was born in [[Philadelphia, Pennsylvania]] on January 28, 1973. His family struggled to make ends meet, and he lived with 18 relatives in a five-bedroom home, sharing a bed with his sister. Some of his family members sold crack cocaine, and his father left his family at age 10. He attended public school in his youth but attended [[Episcopal Academy]] for high school. He became one of the top high school basketball players in the country at Episcopal, receiving scholarship offers at 16 schools. He chose to attend Penn to study accounting at the Wharton School; he had planned on being an accountant in his youth.<ref>{{cite web | url = https://www.si.com/nba/2019/07/11/jerome-allen-penn-basketball-bribery-case-ncaa-celtics-philip-esformes | title = Breaking Bad: The False Step and Downfall of Penn Legend Jerome Allen\\n}}</ref>Jerome Allen (basketball)\\n\\n==College playing career==\\n\\nAllen was a four-year starter at Penn alongside future NBA players [[Matt Maloney]] and [[Ira Bowman]]. Allen and the Quakers were undefeated from his freshman season to his junior season in the Ivy League. The team\\'s 48-game conference winning streak is the best in Ivy League history. He averaged 13.7 points per game in his career for Penn.Jerome Allen (basketball)\\n\\n==Professional playing career==\\n\\n===Minnesota Timberwolves===\\n\\nAllen was selected 49th overall (2nd round, pick 20) by the [[Minnesota Timberwolves]] in the [[1995 NBA draft]]. Until [[Miye Oni]] was selected in 2019, Allen was the most recent Ivy League player to be drafted to the NBA. He played 41 games for the Timberwolves, averaging 2.6 points per game in 8.8 minutes per game.Jerome Allen (basketball)\\n\\n==Professional playing career==\\n\\n===Indiana Pacers===\\n\\nAllen signed with the Indiana Pacers for the 1996 NBA season. He played 51 games, averaging about 3 points in 14 minutes per game. He did not finish the season with the Pacers.<ref name=\"Jerome Allen\"/>Jerome Allen (basketball)\\n\\n==Professional playing career==\\n\\n===Denver Nuggets===\\n\\nAllen signed with the Denver Nuggets and played 25 games to finish the 1996 NBA season.<ref name=\"Jerome Allen\"/>Jerome Allen (basketball)\\n\\n==Professional playing career==\\n\\n===Europe===\\n\\nAllen also spent time in [[France]], [[Italy]] (with [[Pallacanestro Virtus Roma|Lottomatica Roma]], [[Basket Napoli|Carpisa Napoli]] and [[Pallalcesto Amatori Udine|Snaidero Udine]]), [[Greece]], [[Spain]] and [[Turkey]].Jerome Allen (basketball)\\n\\n==Coaching career==\\n\\n===Penn Quakers===\\n\\nIn 2009, he became an assistant coach for the University of Pennsylvania\\'s men\\'s basketball team.  On December 14, 2009, Allen was named interim head coach of the Penn men\\'s basketball team after the firing of [[Glen Miller (basketball)|Glen Miller]].  On March 31, 2010, he was announced as the new permanent head coach of the Penn Men\\'s Basketball team. He resigned his position as head coach effective on March 10, 2015.Jerome Allen (basketball)\\n\\n==Coaching career==\\n\\n===Boston Celtics===\\n\\nAllen joined the Boston Celtics in 2015 under head coach [[Brad Stevens]]. Allen was one of Boston\\'s longer-tenured assistants and was with the team for all but two seasons of the Brad Stevens era.Jerome Allen (basketball)\\n\\n==Coaching career==\\n\\n===Detroit Pistons===\\n\\nIn summer 2021, Allen announced he was leaving the Celtics\\' coaching staff to join [[Dwane Casey]] in Detroit.Jerome Allen (basketball)\\n\\n==Bribery case and related NCAA sanctions==\\n\\nIn October 2018, Allen pleaded guilty to accepting an $18,000 bribe in 2014 while the head coach at Penn to help a student get on the recruiting list in order to get accepted to the university. He was ordered to pay back $18,000 in addition to a $200,000 fine. He would testify on behalf of the federal government against the man he said had bribed him – Phillip Esformes. During Esformes\\'s trial, Allen testified that he had received about $300,000 in bribes from Esformes, and that the student in question was Esformes\\'s son.\\n\\nOn February 26, 2020, the NCAA announced penalties against Allen and the Penn men\\'s basketball program stemming from the bribes. The program was placed on two years\\' probation but did not receive a postseason ban. Allen received a 15-year [[show-cause penalty]] from the NCAA, effective until February 20, 2035. It is the longest ever handed down to a (former) head coach. During this period, any school that hires Allen must \"show cause\" for why it should not be sanctioned for doing so. In an unusual move, if Allen gets a head coaching job after the show-cause expires, he must sit out the first half of the first season of his return. It is very difficult for a head coach to return to the collegiate ranks even after a show-cause expires, since many presidents and athletic directors are extremely reluctant to hire someone with a show-cause on his record. Only four coaches have ever worked in college basketball again after receiving a show-cause.{{Citation needed|date=January 2023|reason=specific enough that this seems like it was found somewhere, would like to have source to back it up}}Jerome Allen (basketball)\\n\\n==Head coaching record==\\n\\n{{CBB Yearly Record Start\\n|type=coach\\n|conference=\\n|postseason=}}\\n{{CBB Yearly Record Subhead\\n|name=[[Penn Quakers men\\'s basketball|Penn Quakers]]\\n|startyear=2009\\n|conference=[[Ivy League]]\\n|endyear=2015\\n}}\\n{{CBB Yearly Record Entry\\n | championship =\\n | season       = [[2009–10 NCAA Division I men\\'s basketball season|2009–10]]\\n | name         = Penn\\n | overall      = 6–15\\n | conference   = 5–9\\n | confstanding = T–5th\\n | postseason   =\\n | ranking      = no\\n | ranking2     = no\\n}}\\n{{CBB Yearly Record Entry\\n | championship =\\n | season       = [[2010–11 NCAA Division I men\\'s basketball season|2010–11]]\\n | name         = Penn\\n | overall      = 13–15\\n | conference   = 7–7\\n | confstanding = 4th\\n | postseason   =\\n | ranking      = no\\n | ranking2     = no\\n}}\\n{{CBB Yearly Record Entry\\n | championship =\\n | season       = [[2011–12 NCAA Division I men\\'s basketball season|2011–12]]\\n | name         = [[2011–12 Penn Quakers men\\'s basketball team|Penn]]\\n | overall      = 20–13\\n | conference   = 11–3\\n | confstanding = 2nd\\n | postseason   = [[2012 College Basketball Invitational|CBI Quarterfinals]]\\n | ranking      = no\\n | ranking2     = no\\n}}\\n{{CBB Yearly Record Entry\\n | championship =\\n | season       = [[2012–13 NCAA Division I men\\'s basketball season|2012–13]]\\n | name         = [[2012–13 Penn Quakers men\\'s basketball team|Penn]]\\n | overall      = 9–22\\n | conference   = 6–8\\n | confstanding = 5th\\n | postseason   = \\n | ranking      = no\\n | ranking2     = no\\n}}\\n{{CBB Yearly Record Entry\\n | championship =\\n | season       = [[2013–14 NCAA Division I men\\'s basketball season|2013–14]]\\n | name         = [[2014–15 Penn Quakers men\\'s basketball team|Penn]]\\n | overall      = 8–20\\n | conference   = 5–9\\n | confstanding = 6th\\n | postseason   = \\n | ranking      = no\\n | ranking2     = no\\n}}\\n{{CBB Yearly Record Entry\\n | championship =\\n | season       = [[2014–15 NCAA Division I men\\'s basketball season|2014–15]]\\n | name         = [[2014–15 Penn Quakers men\\'s basketball team|Penn]]\\n | overall      = 9–19\\n | conference   = 4–10\\n | confstanding = 8th\\n | postseason   = \\n | ranking      = no\\n | ranking2     = no\\n}}\\n{{CBB Yearly Record Subtotal\\n | name       = Penn\\n | overall    = {{winpct|65|104|record=y}}\\n | confrecord = {{winpct|38|46|record=y}}\\n}}\\n{{CBB Yearly Record End\\n|overall={{winpct|65|104|record=y}}\\n|poll=no}}', \"Summarize this persons life description in 1 textual sentence with line breaks every 10 words focusing on their occupation and work primarily, also say when they graduated from or attended EA Alan W. Lukens\\n\\n{{Short description|American diplomat (1924–2019)}}\\n{{Multiple issues|\\n{{original research|date=January 2016}}\\n{{sources|date=January 2016}}\\n}}\\n\\n'''Alan Wood Lukens''' (February 12, 1924 – January 5, 2019) was an American diplomat who served as the ambassador to [[People's Republic of the Congo]] from 1984 to 1987 and held other diplomatic posts throughout Africa. He died in January 2019 at the age of 94.Alan W. Lukens\\n\\n==Early life==\\n\\nLukens was born in [[Philadelphia, Pennsylvania]], son of Edward and Francis (Day) Lukens. He attended the [[Episcopal Academy]], continuing his education at [[Princeton University]], Class of 1946.  He did not actually graduate until 1948 because he interrupted his studies to join the army.\\n\\nHe served in the [[Second World War]] in the [[20th Armored Division (United States)|20th Armored Division]], landed on Utah Beach on D-Day and experienced bitter fighting in the [[Rhine valley]]. His division was involved with the Liberation of [[Dachau concentration camp]] on April 29, 1945.Alan W. Lukens\\n\\n==Foreign Service==\\n\\nHe joined the Foreign Service in 1951.  Vice consul in Istanbul from 1952 to 1953.  Charge d' affaires, Central African Republic 1961, Paris 1961–1963, Morocco 1963–1965. Deputy chief of mission Dakar 1967–1970, Nairobi 1970-1972 and Copenhagen 1975–1978. Lukens retired from the State Department in 1993.  President of the 20th Armored Division association and commander of American Legion Post 136 in Greenbelt, Maryland.\", 'Summarize this persons life description in 1 textual sentence with line breaks every 10 words focusing on their occupation and work primarily, also say when they graduated from or attended EA Henry G. Morse\\n\\n{{short description|American architect}}\\n\\'\\'\\'Henry Grant Morse, Jr.\\'\\'\\' (1884 – May 28, 1934) was an American [[architect]], best known for the two English [[manor houses]] that he [[Structure relocation|relocated]] to [[Richmond, Virginia]].Henry G. Morse\\n\\n==Early life==\\n\\nHe was born in [[Canton, Ohio]] to Mary K. and Henry G. Morse, Sr.<ref name=obit/>\\n\\nHe studied at the [[Episcopal Academy]] near Philadelphia. He then enrolled in the [[Massachusetts Institute of Technology]] where he studied architecture. While there, he was a member of the fraternity of Delta Psi (aka St. Anthony Hall).Henry G. Morse\\n\\n== Career ==\\n\\nHe established himself in [[Manhattan, New York City]] before the age of 20. As an associate, he collaborated with Boston architect [[Herbert D. Hale]] on the [[Camden Free Public Library Main Building]] (1903–05) in [[Camden, New Jersey]]; the Norfolk Public Library (1903–06) in [[Norfolk, Virginia]]; and the [[Engineering Societies\\' Building|United Engineering Societies]] Building (1904–07) in New York City. These were all projects funded by [[Andrew Carnegie]].\\n\\nAs associates, Hale and Morse both collaborated with architects [[Parker, Thomas & Rice|Parker & Thomas]] on the Baltimore & Ohio Railroad Building (1904–06) in [[Baltimore, Maryland]]. While working in Camden and Baltimore, the pair kept an office in the Drexel Building in [[Philadelphia, Pennsylvania]].\\n\\nOn his own, he designed a laboratory building at [[Yale University]], and [[Tudor Revival architecture|Tudor-style]] houses in [[New Rochelle, New York]] for mural artist [[Frederick Dana Marsh]] and cartoonist [[Clare Briggs]].He worked as a partner in the firm of Hawes & Morse for a number of years. He designed a [[YMCA]] in Camden, New Jersey.\\n\\nHe was noted in particular for his work on [[Virginia House]] in [[Richmond, Virginia]], which is partly a reconstruction of a Tudor manor shipped over from [[Warwickshire]], [[England]]. Morse was hired in 1925 to visit England and study other manors, travelling around the English countryside and surveying properties such as [[Wormleighton Manor]], fusing together different ideas into the final reconstruction in Virginia. He also supervised the relocation of [[Agecroft Hall]], which was re-erected next door to Virginia House, 1925–29.Henry G. Morse\\n\\n== Personal life ==\\n\\nHe died on May 28, 1934, at his home in [[Essex Fells, New Jersey]] leaving behind his wife, Harriet K. Morse, author of 1939 gardening classic \"Gardening in the Shade\".  Harriet also wrote for gardening magazines, the garden sections of the New York Times and other newspapers. [[Essex Fells, New Jersey]].Henry G. Morse\\n\\n==Selected works==\\n\\n*[[Camden Free Public Library Main Building]] (1903–05), 616 Broadway, Camden, New Jersey, with Herbert D. Hale, principal architect. The building is vacant and no longer used.\\n*Norfolk Public Library, (1903–06), 345 West Freemason Street, Norfolk, Virginia, with Herbert D. Hale, principal architect. The building is currently (July 2013) for sale.\\n*Baltimore & Ohio Railroad Building (1904–06), 2 North Charles Street in Baltimore, Maryland, with Herbert D. Hale, associate architect, and Parker & Thomas, principal architects. Now the Hotel Monaco Baltimore.\\n*United Engineering Societies Building (1904–07), 29-33 West 39th Street, Manhattan, New York City, with Herbert D. Hale, principal architect. Now the headquarters for [[Thor Equities]].\\n*Dunham Laboratories (1912), Yale University, 10 Hillhouse Avenue, New Haven, Connecticut.\\n*Frederick Dana Marsh residence (1914), 56 Avon Road, Wykagyl Park, New Rochelle, New York.\\n*Clare Briggs residence (1917), 1 Byworth Road, Wykagyl Park, New Rochelle, New York.\\n*[[Agecroft Hall]] (relocated & rebuilt 1925–26), 4305 Sulgrave Road, Richmond, Virginia.\\n*[[Virginia House]] (relocated & rebuilt 1925–29), 4301 Sulgrave Road, Richmond, Virginia.\\n\\n<gallery>\\nFile:VH Facade.jpg|[[Virginia House]], relocated by Morse to Richmond, Virginia.\\nFile:Agecroft Hall.jpg|[[Agecroft Hall]], relocated by Morse to Richmond, Virginia.\\n</gallery>']\n"
          ]
        }
      ]
    },
    {
      "cell_type": "code",
      "source": [
        "import os\n",
        "from openai import OpenAI, Completion\n",
        "from concurrent.futures import ThreadPoolExecutor\n",
        "import pandas as pd\n",
        "\n",
        "os.environ['OPENAI_API_KEY'] = 'enter your key here'\n",
        "api_key = os.environ['OPENAI_API_KEY']\n",
        "\n",
        "# Sample prompts\n",
        "\n",
        "# Instantiate the client\n",
        "client = OpenAI(api_key=api_key)\n",
        "\n",
        "def generate_summary(prompt):\n",
        "    # Use OpenAI GPT-3 to generate summary for the prompt\n",
        "    response: Completion = client.completions.create(\n",
        "        model=\"gpt-3.5-turbo-instruct\",\n",
        "        prompt=prompt,\n",
        "        max_tokens=50,  # Adjust max_tokens based on desired length\n",
        "        temperature=0.7,\n",
        "        n=1,  # Number of completions to generate\n",
        "        # model=\"gpt-3.5-turbo\",  # Specify the GPT-3 model\n",
        "    )\n",
        "\n",
        "    # Extract the summarized text from the response\n",
        "    summary_text = response.choices[0].text.strip()\n",
        "\n",
        "    return summary_text\n",
        "\n",
        "# Create a ThreadPoolExecutor with a maximum of concurrent threads\n",
        "with ThreadPoolExecutor() as executor:\n",
        "    # Use map to preserve the order of prompts and their corresponding summaries\n",
        "    results = list(executor.map(generate_summary, prompts))\n",
        "\n",
        "# Print the results\n",
        "GptListy = []\n",
        "for i, summary in enumerate(results):\n",
        "    print(f\"Prompt {i+1} Summary: {summary}\\n{'-'*50}\")\n",
        "    GptListy.append(summary)\n",
        "df_GptListy = pd.DataFrame({'Summary': GptListy})\n",
        "\n",
        "# Save the DataFrame to a CSV file\n",
        "df_GptListy.to_csv('/content/drive/MyDrive/GptListy.csv', index=False)\n"
      ],
      "metadata": {
        "colab": {
          "base_uri": "https://localhost:8080/"
        },
        "id": "SOoxPxxJQeMf",
        "outputId": "cd923307-209f-4e3a-fe5f-9dc333c02707"
      },
      "execution_count": 12,
      "outputs": [
        {
          "output_type": "stream",
          "name": "stdout",
          "text": [
            "Prompt 1 Summary: George Almond Munger, American athlete, coach and athletic director, played college football at the University of Pennsylvania from 1930 to 1933, coached the Penn football team from 1938 to 1953 and served as director of\n",
            "--------------------------------------------------\n",
            "Prompt 2 Summary: Jerome Allen (basketball) is a former American professional basketball player who graduated from Episcopal Academy and went on to play in the NBA before becoming a college head coach at Penn, where he resigned after the 2014-15 season, and\n",
            "--------------------------------------------------\n",
            "Prompt 3 Summary: Alan W. Lukens was an American diplomat who served in various diplomatic posts throughout Africa and as the ambassador to the People's Republic of the Congo from 1984 to 1987, graduating from Princeton University in 1948 after serving in\n",
            "--------------------------------------------------\n",
            "Prompt 4 Summary: Henry Grant Morse, Jr was an American architect who relocated two English manor houses to Richmond, Virginia and studied at the Episcopal Academy and Massachusetts Institute of Technology, and his notable works include the Norfolk Public Library and the United Engineering Societies Building in\n",
            "--------------------------------------------------\n",
            "Prompt 5 Summary: y and Contradiction in Architecture''\n",
            "* Fellow, American Institute of Architects\n",
            "* Elected to the American Academy of Arts and Sciences in 1978\n",
            "* Fellow, Royal Institute of British Architects\n",
            "* National Council of the Arts; 198\n",
            "--------------------------------------------------\n",
            "Prompt 6 Summary: Morrison Harris Heckscher (born December 12, 1940) is an American retired curator and art historian who served as the Lawrence A. Fleischman Chair of the American Wing at the Metropolitan Museum of Art from 200\n",
            "--------------------------------------------------\n",
            "Prompt 7 Summary: In summary, Brian \"Doc\" Dougherty is a retired American lacrosse goaltender, three-time recipient of the Major League Lacrosse Goaltender of the Year Award, and former head coach at Springside Chestnut Hill Academy. He graduated\n",
            "--------------------------------------------------\n",
            "Prompt 8 Summary: George David, successful American businessman, joined Otis Elevator in 1975, became President in 1986, and later served as Chairman and CEO of United Technologies Corporation from 1992 until his retirement in 2008, receiving numerous\n",
            "--------------------------------------------------\n",
            "Prompt 9 Summary: Gerald Henderson Jr.\n",
            "\n",
            "==References==\n",
            "\n",
            "{{Reflist}}\n",
            "\n",
            "==External links==\n",
            "\n",
            "* [http://www.nba.com/playerfile/gerald_henderson/ NBA.com profile]\n",
            "* [http://www.goduke.com/View\n",
            "--------------------------------------------------\n",
            "Prompt 10 Summary: laws, the President enforces them, and the courts interpret them. The model works well in peacetime, but it is not suited to times of war.\"John Yoo\n",
            "\n",
            "==Career==\n",
            "\n",
            "===Conservative commentator===\n",
            "\n",
            "Yoo is\n",
            "--------------------------------------------------\n",
            "Prompt 11 Summary: His design was used on the Stars & Stripes 87, which won the [[1987 America's Cup]], the first time the United States had won the cup in 24 years.<ref name=\":1\" /><ref name=\":8\n",
            "--------------------------------------------------\n",
            "Prompt 12 Summary: He was released on July 7.\n",
            "\n",
            "Kyle Eckel, born December 30, 1981, was a former American football fullback who played in the National Football League, winning Super Bowl XLIV with the New Orleans Saints in 200\n",
            "--------------------------------------------------\n",
            "Prompt 13 Summary: \n",
            "--------------------------------------------------\n",
            "Prompt 14 Summary: In 1959, Charles, Jr. was succeeded by his son, [[Charles L. Tutt III]], who served as president until [[1991]].\n",
            "\n",
            "Charles Leaming Tutt Sr. was a wealthy businessman and partner of Spencer Penrose\n",
            "--------------------------------------------------\n",
            "Prompt 15 Summary: His son John is a 2011 graduate of the [[University of North Carolina at Chapel Hill]] and a member of the [[United States Marine Corps]], his son Steven graduated from the same university in 2013, and his daughter Elizabeth graduated from\n",
            "--------------------------------------------------\n",
            "Prompt 16 Summary: Anthony Apesos\n",
            "\n",
            "Born in 1953, Anthony Apesos is an American painter who graduated from The Episcopal Academy in 1972 and has since become a professor of Fine Arts at the Art Institute of Boston at Lesley University, specializing\n",
            "--------------------------------------------------\n",
            "Prompt 17 Summary: Richard Warrington Baldwin Lewis, an American literary scholar and critic, taught at Yale University from 1959 to 1988 and was the Neil Gray Professor of English and American Studies, and is considered one of the founders of the academic field\n",
            "--------------------------------------------------\n",
            "Prompt 18 Summary: American college basketball coach, currently an assistant at Kentucky, graduated from or attended EA Bruiser Flint in 1987.\n",
            "--------------------------------------------------\n",
            "Prompt 19 Summary: Boies Penrose\n",
            "\n",
            "Penrose's estate was appraised at $6,969,000, and in 1922 his widow, Mary Farquhar Penrose, established the Boies Penrose Foundation.Boies Penrose\n",
            "\n",
            "Penrose\n",
            "--------------------------------------------------\n",
            "Prompt 20 Summary: Benjamin Huger Read was a lawyer who served as the United States Under Secretary of State for Management from 1978-1981 under President Jimmy Carter, graduating from Williams College in 1949 and the University of Pennsylvania Law School in\n",
            "--------------------------------------------------\n",
            "Prompt 21 Summary: \n",
            "--------------------------------------------------\n",
            "Prompt 22 Summary: \"walk stiffly\". But in his later years, Barrymore's arthritis was so severe that by the time he made ''Duel in the Sun'', he could only stand for minutes at a time before having to sit down to ease the pain.\n",
            "--------------------------------------------------\n",
            "Prompt 23 Summary: Ralph Earle II, American diplomat and arms control negotiator, graduated from EA Ralph Earle (ambassador) in 1946, worked for Morgan, Lewis & Bockius, joined the SALT II negotiations as an alternate to\n",
            "--------------------------------------------------\n",
            "Prompt 24 Summary: These include ''The Great American Family'', ''To Quito and Back'' and ''The Wingless Victory''. The current whereabouts of these plays is unknown.\n",
            "\n",
            "==References==\n",
            "\n",
            "{{Commons category|Laird Cregar}}\n",
            "* {{Amg\n",
            "--------------------------------------------------\n",
            "Prompt 25 Summary: John Charles Groome (police officer) was a Philadelphia-born police commissioner, who served as the first commissioner of the Pennsylvania State Police from 1905 to 1917, and was a former warden of the Eastern State Penitentiary\n",
            "--------------------------------------------------\n",
            "Prompt 26 Summary: Charles Bingham Penrose\n",
            "\n",
            "==Eponyms==\n",
            "\n",
            "The [[Penrose drain]], a type of surgical drain, is named after Penrose, who invented it.<ref name=Range/>\n",
            "--------------------------------------------------\n",
            "Prompt 27 Summary: De Grasse]] (1917, based on the novel ''The Scarlet Car'')<!--October 1, 1917-->\n",
            "*''[[The Man Who Could Not Lose (1918 film)|The Man Who Could Not Lose]]'', directed\n",
            "--------------------------------------------------\n",
            "Prompt 28 Summary: Peter Y. Solmssen, an American lawyer and business executive, was the first American member of the managing board of Siemens AG, where he served as general counsel until November 2013. He is best known for his work in\n",
            "--------------------------------------------------\n",
            "Prompt 29 Summary: He attended [[The Episcopal Academy]] and graduated in 1975. Tierney serves on the [[board of directors]] of [[The Episcopal Academy]] and is a member of the school's Building on Strengths capital campaign committee. He also sits on\n",
            "--------------------------------------------------\n",
            "Prompt 30 Summary: ]]. The movie grossed $95 million worldwide against a $18 million budget. Shyamalan's next film, ''[[Knock at the Cabin]]'', is scheduled for release in 2023.\n",
            "\n",
            "Shyamalan is known for filming\n",
            "--------------------------------------------------\n",
            "Prompt 31 Summary: Greg Isdaner, former American football guard for the Dallas Cowboys and Philadelphia Eagles, and later a member of the Hartford Colonials, graduated from West Virginia in 2009 and now coaches at The Haverford School for Boys in PA.\n",
            "--------------------------------------------------\n",
            "Prompt 32 Summary: Sarah Steele\n",
            "\n",
            "==References==\n",
            "{{Reflist|30em}}\n",
            "\n",
            "==External links==\n",
            "*{{IMDb name|id=1698705|name=Sarah Steele}}\n",
            "*{{Twitter|SarahSteeleNYC}}\n",
            "*{{Instagram|\n",
            "--------------------------------------------------\n",
            "Prompt 33 Summary: .\n",
            "\n",
            "This list includes important faculty and alumni of Episcopal Academy, a co-educational school for grades Pre-K through 12 located in Newtown Square, Pennsylvania, with notable individuals in the fields of art and media, athletics, business and technology, government\n",
            "--------------------------------------------------\n",
            "Prompt 34 Summary: His wife Chara Haas died on February 4, 2012, at the age of 84.  They are survived by their five children, 14 grandchildren and one great-grandchild.\n",
            "--------------------------------------------------\n",
            "Prompt 35 Summary: || 1.9 || .8 || .3 || .1 || 6.1\n",
            "|-\n",
            "| style=\"text-align:left;\"|{{nbay|2012}}\n",
            "| style=\"text-align:left;\"|[[2012–13\n",
            "--------------------------------------------------\n",
            "Prompt 36 Summary: Harold Bright Maynard (1902-1975) was an American industrial engineer, consulting engineer at the Methods Engineering Council, and management author, known as the \"Broadway counsel for industries, railroads, state governments\" and as recipient\n",
            "--------------------------------------------------\n",
            "Prompt 37 Summary: Spencer Penrose, an American entrepreneur and philanthropist, graduated from EA Spencer Penrose in 1886, and made his fortune from mining, ore processing, and real estate speculation in Colorado and other parts of the West.\n",
            "--------------------------------------------------\n",
            "Prompt 38 Summary: Fraternity\n",
            "\n",
            "Thomas Knight Finletter was an American lawyer, politician, and statesman specializing in international economic affairs who graduated from the University of Pennsylvania and served in various government positions including as the United States Ambassador to NATO and Secretary of the Air Force\n",
            "--------------------------------------------------\n",
            "Prompt 39 Summary: He has also been a fellow at the [[MacDowell Colony]], [[Yaddo]], and the [[Camargo Foundation]] in France. He currently teaches at the [[School of Visual Arts]].Mark Kendall (artist)\n",
            "--------------------------------------------------\n",
            "Prompt 40 Summary: \n",
            "--------------------------------------------------\n",
            "Prompt 41 Summary: tonement Lutheran Church, Wyomissing, PA – Extant <sup>[1], [3], [17]</sup>\n",
            "* 1929 St. Paul’s Memorial P.E. Church, Philadelphia, PA – Extant <sup>[3\n",
            "--------------------------------------------------\n",
            "Prompt 42 Summary: \n",
            "--------------------------------------------------\n",
            "Prompt 43 Summary: Louisa Warren Hall is an American novelist and poet who attended EA Louisa Hall and graduated in 2004 with a BA in English from Harvard University, later earning a Ph.D in literature from the University of Texas at Austin, where she has\n",
            "--------------------------------------------------\n",
            "Prompt 44 Summary: lm ''[[Bluebeard (1944 film)|Bluebeard]].'' They had met when she auditioned for a play he was directing. They had four children: [[Calista Carradine|Calista]], [[Tom Carradine\n",
            "--------------------------------------------------\n",
            "Prompt 45 Summary: Scott Murphy (1936 – 13 April 2006) was an American hematologist, medical researcher, and professor of medicine who graduated from Yale University in 1958 and received his M.D. in 1962 from Columbia University College\n",
            "--------------------------------------------------\n",
            "Prompt 46 Summary: Scott Murphy, physician, graduated from EA, focused on work primarily, selected publications. \n",
            "Frank H. Gardner, J. Lawrence Naiman, Charles J. Lusch, Sheldon Goldberg, \n",
            "Marie J. Stuart, Frank A.\n",
            "--------------------------------------------------\n"
          ]
        }
      ]
    },
    {
      "cell_type": "code",
      "source": [
        "df_GptListy = pd.DataFrame({'Summary': GptListy})\n",
        "\n",
        "# Save the DataFrame to a CSV file\n",
        "df_GptListy.to_csv('/content/drive/MyDrive/GptListy.csv', index=False)\n"
      ],
      "metadata": {
        "id": "ANpGbL5wiUVQ"
      },
      "execution_count": 14,
      "outputs": []
    },
    {
      "cell_type": "code",
      "source": [
        "import pandas as pd\n",
        "\n",
        "# Load the DataFrame from the CSV file\n",
        "loaded_df_GptListy = pd.read_csv('/content/drive/MyDrive/GptListy.csv')\n",
        "\n",
        "# Convert 'Summary' column back into a list\n",
        "GptListy = loaded_df_GptListy['Summary'].tolist()\n",
        "\n",
        "# Now, loaded_GptListy contains the list of summaries\n",
        "print(GptListy)"
      ],
      "metadata": {
        "colab": {
          "base_uri": "https://localhost:8080/"
        },
        "id": "JP6pq6-oinem",
        "outputId": "bfddc90c-0a4c-4c0d-d356-162091bfdf8c"
      },
      "execution_count": 24,
      "outputs": [
        {
          "output_type": "stream",
          "name": "stdout",
          "text": [
            "['George Munger was an American football player and coach who attended the University of Pennsylvania, Episcopal Academy, and The Hill School, and coached the Penn Quakers football team from 1938 to 1953, compiling a record of 82-42-10.', \"Jerome Allen (basketball) graduated from Episcopal Academy and played professional basketball from 1995-2009; he then served as the head coach for Penn Quakers men's basketball from 2009-2015 and was an assistant coach for the Boston Celtics from 2015-\", 'Alan W. Lukens graduated from the Episcopal Academy in 1942 and served in the U.S. Army during World War II before joining the Foreign Service in 1951 and working in various diplomatic posts throughout Africa.', 'Henry G. Morse graduated from the Episcopal Academy near Philadelphia and studied architecture at the Massachusetts Institute of Technology, before establishing himself as an architect in New York City, designing and relocating two English manor houses to Richmond, Virginia.', \"and Contradiction in Architecture''; 1967\\n* [[Charles F. Peterson Prize]] for the restoration of the [[Fisher Fine Arts Library]]; 1980\\n* Thomas Jefferson Medal for Architecture, University of Virginia; 1984\\n* [[AIA Gold\", \"Morrison Heckscher is an American art historian, curator and chair of the American Wing at the Metropolitan Museum of Art from 2001 to 2014 who received numerous awards, including the Antique Dealers' Association Award of Merit and the Winter\", 'Brian Dougherty\\n\\n Brian Dougherty is a retired Hall of Fame American lacrosse goaltender who attended The Episcopal Academy and the University of Maryland, and is currently the Head Coach at Springside Chestnut Hill Academy.', \"George David graduated from Harvard University in 1966 and received an M.B.A. from the University of Virginia's Darden Graduate School of Business Administration in 1968. He worked for the Boston Consulting Group before joining UTC's Otis Elevator\", 'Gerald Henderson Jr. graduated from the Episcopal Academy in 2006 and had a successful professional basketball career in the NBA from 2009 to 2017.', 'laws, the President enforces them, and the courts interpret them. But this triangle of powers breaks down during wartime. For reasons dating back to [[ancient Rome]], the framers of the [[United States Constitution]] believed that the President must', 'Chance\\'s design was chosen as the America\\'s Cup defender.<ref name=\":7\" />\\n\\nChance was the principal designer for the \\'\\'[[Stars & Stripes 87]]\\'\\', which won the \\'\\'[[1988 Louis Vuitton Cup]]\\'\\'', 'Kyle Eckel graduated from the Naval Academy in 2005 and went on to have a successful career as a fullback in the NFL, winning Super Bowl XLIV with the New Orleans Saints.', 'Maury Henry Biddle Paul was an American journalist and society columnist for the New York American who coined the term \"Café society\" and was the first to write under the pseudonym \"Cholly Knickerbocker\" until his death', 'Charles L. Tutt Sr., a former Pennsylvania Railroad clerk, attended Episcopal Academy, migrated to Colorado Springs, and became a wealthy businessman through his real estate, insurance, and mining ventures, and his son Charles L. Tutt Jr.', \"Edward Vick is a former US naval officer, business executive, and volunteer advocate for veterans' causes who served two tours of duty during the Vietnam War and received two Bronze Star Medals, the Combat Action Ribbon, the Presidential Unit Citation, and the\", 'Anthony Apesos is an American painter and professor of Fine Arts at the Art Institute of Boston at Lesley University, graduating from Vassar College in Religion and receiving an M.F.A. from the Milton Avery Graduate School of', \"* ''The American Adam: Innocence, Tragedy and Tradition in the Nineteenth Century'' (1998)\\n\\nR. W. B. Lewis was an American literary scholar and critic who earned a Pulitzer Prize, National Book Critics\", \"Bruiser Flint graduated from Saint Joseph's University in 1987 and went on to work as an assistant coach at Coppin State and UMass, becoming the head coach of UMass in 1996. He then served as the head coach of\", 'Boies Penrose graduated from Harvard University in 1881 and served in both houses of the Pennsylvania legislature before being elected to the United States Senate from 1897 to 1921, where he was a dominant member of the Senate Finance Committee.', 'Benjamin H. Read was a lawyer, public defender, legislative assistant, executive secretary, director of the Woodrow Wilson International Center for Scholars, president of the German Marshall Fund and Under Secretary of State for Management from 1978 to 1981, before', 'Robert A. Masciantonio is an American screenwriter, director, producer, and actor who graduated from Episcopal Academy and studied film at Temple University, receiving the Silver Reel Award for his short film Jerks.', 'walk with a \"slight limp\".\\n\\nIn a 1932 interview, Barrymore said he had suffered from arthritis since at least the age of 16 and had been using crutches since age 20. By 1940, his arthritis was so advanced that', \"Ralph Earle II was an American lawyer, diplomat and arms control negotiator, who was a key architect of several major international arms control accords, was the United States' chief negotiator at the SALT II round of talks from 1978 to\", 'Laird Cregar was an American actor best known for his villainous performances in films such as I Wake Up Screaming (1941) and The Lodger (1944). After graduating from the Episcopal Academy in Philadelphia, he began', 'John Charles Groome was the first Commissioner of the Pennsylvania State Police from 1905 to 1917, and Warden of Eastern State Penitentiary, and a Colonel in World War I, graduating from the Protestant Episcopal Academy in 1878.', 'Charles Bingham Penrose was a renowned American gynecologist, surgeon, zoologist, and conservationist who invented the Penrose drain, was a professor at the University of Pennsylvania, and wrote several editions of a textbook on medical problems in women', \"de Grasse]] (1917, based on the novel ''The Scarlet Car'')<!--4 November 1917-->\\n*''[[The Lost Road]]'', directed by [[Joseph de Grasse]] (1917, based on the novel\", 'Peter Y. Solmssen is an American lawyer and business executive, best known for having negotiated simultaneous settlements of the Siemens corruption prosecutions and for leading a global campaign against bribery, having graduated from The Episcopal Academy in 1972, the University', 'Brian Tierney graduated from the University of Pennsylvania with a BA in 1979, and Widener University with a JD in 1987, and was Chief Executive of Philadelphia Media Holdings and Publisher of the Philadelphia Inquirer from 2006-2010.', ']].\\n\\nM. Night Shyamalan graduated from or attended Episcopal Academy in 1988 and New York University Tisch School of the Arts in 1992. He is an American filmmaker, producer and screenwriter, best known for making original films with contemporary', 'Greg Isdaner graduated from West Virginia in 2009 and was a professional football player with the Dallas Cowboys, Philadelphia Eagles and Hartford Colonials.', 'Sarah Steele is an American actress, known for her role as Marissa Gold on the CBS legal drama series The Good Wife (2011–2016) and its CBS All Access spinoff series The Good Fight (2017–2022), who graduated', 'This list of Episcopal Academy people includes prominent alumni and faculty from the co-educational school who have achieved success in the fields of art and media, athletics, business and technology, government, and other areas. Many have won awards such as', 'He was survived by his wife Chara, and his five children.<ref name=InquirerObituary/>\\n\\nJohn C. Haas was an American businessman and philanthropist who served as the chairman of global chemical company Rohm and Haas', '|| 1.9 || 1.2 || .6 || .0 || 6.7\\n|-\\n| style=\"text-align:left;\"|{{nbay|2012}}\\n| style=\"text-align:left;\"|[[', 'Harold Bright Maynard was an American industrial engineer, consulting engineer, and management author, who was employed at Westinghouse Electric Corporation from 1923-1929 and founded the consulting firm Methods Engineering Council in 1934. He was awarded the Henry', 'Spencer Penrose was an American entrepreneur and philanthropist who made his fortune from mining, ore processing, and real estate speculation in Colorado and beyond. He established the Utah Copper Company in 1903 and founded the El Pomar Foundation in 1937', 'Thomas K. Finletter was an American lawyer, politician, and statesman who served as Secretary of the Air Force from 1950 to 1953 and Ambassador to NATO from 1961 to 1965, and was also involved in many other political and professional affiliations', 'He was also a 2015 MacDowell Colony Fellow and a 2012 [[Tribeca Film Institute|Tribeca All Access Creative Promise Award]]ee.\\n\\nSummarize this persons life description in 1 textual sentence with line breaks every 10 words', 'Eddie Collins Jr. was a professional baseball outfielder and educator who graduated from Episcopal Academy and attended Yale University, playing for the team that won the 1937 Ivy League championship before debuting in the Major Leagues for the Philadelphia Athletics in 1939', '.L. Haines Memorial Chapel, Girard College, Philadelphia, PA – Extant <sup>[17]</sup>Walter Horstmann Thomas\\n\\nWalter Horstmann Thomas was an American architect from Philadelphia whose career sp', 'John C. Bell Jr. was a lawyer, politician, and judge, serving as the 33rd Governor of Pennsylvania for 19 days in 1947 and as Chief Justice of the Supreme Court of Pennsylvania from 1961 to 1972.', 'Louisa Hall is an American novelist, poet, and former professional squash player who graduated from Harvard University in 2004 and earned a PhD in literature from the University of Texas at Austin in 2013.', nan, 'Scott Murphy was a hematologist, medical researcher, and professor of medicine who graduated from Yale University in 1958 and Columbia University in 1962. He worked at the University of Pennsylvania, Cardeza Foundation for Hematology Research, and American', 'Scott Murphy (physician) graduated from Harvard Medical School in 1967 and is a highly acclaimed physician, having published multiple works in notable medical journals such as the New England Journal of Medicine.']\n"
          ]
        }
      ]
    },
    {
      "cell_type": "code",
      "source": [
        "def addBreak(string_list):\n",
        "    result_list = []\n",
        "\n",
        "    for original_string in string_list:\n",
        "        # Check if the element is a string\n",
        "        if isinstance(original_string, str):\n",
        "            # Add a new line every 10 characters\n",
        "            modified_string = '<br>'.join(original_string[i:i + 40] for i in range(0, len(original_string), 40))\n",
        "\n",
        "            # Append the modified string to the result list\n",
        "            result_list.append(modified_string)\n",
        "        else:\n",
        "            # If not a string, append the original element\n",
        "            result_list.append(original_string)\n",
        "\n",
        "    return result_list\n",
        "GptListy = addBreak(GptListy)"
      ],
      "metadata": {
        "id": "3xubdavcfpz_"
      },
      "execution_count": 25,
      "outputs": []
    },
    {
      "cell_type": "code",
      "execution_count": 26,
      "metadata": {
        "id": "2159ubJPYPgD",
        "outputId": "e4e10b1e-bbb9-4963-d82e-fc823c899f26",
        "colab": {
          "base_uri": "https://localhost:8080/"
        }
      },
      "outputs": [
        {
          "output_type": "execute_result",
          "data": {
            "text/plain": [
              "(46, 2)"
            ]
          },
          "metadata": {},
          "execution_count": 26
        }
      ],
      "source": [
        "\n",
        "\n",
        "# Convert to a list of lists of floats\n",
        "matrix = np.array(df.embedding.apply(literal_eval).to_list())\n",
        "\n",
        "# Create a t-SNE model and transform the data\n",
        "tsne = TSNE(n_components=2, perplexity=15, random_state=42, init='random', learning_rate=200)\n",
        "vis_dims = tsne.fit_transform(matrix)\n",
        "vis_dims.shape"
      ]
    },
    {
      "cell_type": "markdown",
      "metadata": {
        "id": "Ze9376NLYPgG"
      },
      "source": [
        "### 2. Plotting the embeddings\n",
        "\n",
        "We colour each review by its star rating, ranging from red to green."
      ]
    },
    {
      "cell_type": "markdown",
      "metadata": {
        "id": "c0qePCzMYPgG"
      },
      "source": [
        "We can observe a decent data separation even in the reduced 2 dimensions."
      ]
    },
    {
      "cell_type": "code",
      "source": [
        "import matplotlib.pyplot as plt\n",
        "import matplotlib\n",
        "import numpy as np\n",
        "from sklearn.manifold import TSNE\n",
        "import ast  # Import the ast module for literal_eval\n",
        "\n",
        "df['Summary'] = GptListy\n",
        "# Assuming df is your DataFrame with columns 'text' and 'embedding'\n",
        "texts = df['text'].tolist()\n",
        "embeddings_str = df['embedding'].tolist()\n",
        "\n",
        "# Convert string representations of embeddings to actual lists\n",
        "embeddings = [ast.literal_eval(embedding_str) for embedding_str in embeddings_str]\n",
        "\n",
        "# Convert embeddings to a numpy array\n",
        "embedding_array = np.array(embeddings)\n",
        "\n",
        "# Apply t-SNE to reduce dimensionality\n",
        "tsne = TSNE(n_components=2, random_state=42)\n",
        "vis_dims = tsne.fit_transform(embedding_array)\n",
        "\n",
        "colors = [\"blue\"] * len(df)  # Set a single color for all data points\n",
        "\n",
        "colormap = matplotlib.colors.ListedColormap(colors)\n",
        "plt.scatter(vis_dims[:, 0], vis_dims[:, 1], c=colors, cmap=colormap, alpha=0.3)\n",
        "\n",
        "plt.title(\"Alumni similarity visualized using t-SNE\")\n",
        "plt.show()\n"
      ],
      "metadata": {
        "colab": {
          "base_uri": "https://localhost:8080/",
          "height": 507
        },
        "id": "t4aBsBN21VXI",
        "outputId": "037e9231-7f43-4fcc-a66a-23433b258df8"
      },
      "execution_count": 20,
      "outputs": [
        {
          "output_type": "stream",
          "name": "stderr",
          "text": [
            "<ipython-input-20-43f4e4230896>:25: UserWarning: No data for colormapping provided via 'c'. Parameters 'cmap' will be ignored\n",
            "  plt.scatter(vis_dims[:, 0], vis_dims[:, 1], c=colors, cmap=colormap, alpha=0.3)\n"
          ]
        },
        {
          "output_type": "display_data",
          "data": {
            "text/plain": [
              "<Figure size 640x480 with 1 Axes>"
            ],
            "image/png": "[encoded data removed]"
          },
          "metadata": {}
        }
      ]
    },
    {
      "cell_type": "code",
      "source": [
        "import plotly.express as px\n",
        "\n",
        "df['Summary'] = GptListy\n",
        "\n",
        "# Assuming df is your DataFrame with columns 'text' and 'embedding'\n",
        "texts = df['text'].tolist()\n",
        "\n",
        "# Create a new DataFrame for Plotly with names and coordinates\n",
        "plotly_df = pd.DataFrame({'Name': [text.split('\\n')[0] for text in texts],\n",
        "                          'X': vis_dims[:, 0],\n",
        "                          'Y': vis_dims[:, 1], 'Summary': df['Summary']})\n",
        "\n",
        "# Create a scatter plot with Plotly\n",
        "fig = px.scatter(plotly_df, x='X', y='Y', hover_name='Name',hover_data='Summary', color_discrete_sequence=['blue'])\n",
        "\n",
        "# Set layout and show the figure\n",
        "fig.update_layout(title=\"Alumni similarity visualized using t-SNE\", showlegend=False)\n",
        "fig.show()"
      ],
      "metadata": {
        "colab": {
          "base_uri": "https://localhost:8080/",
          "height": 542
        },
        "id": "XMp5_XhR3dXg",
        "outputId": "07f1a825-75ff-47aa-eb21-a2e77938bedf"
      },
      "execution_count": 27,
      "outputs": [
        {
          "output_type": "display_data",
          "data": {
            "text/html": [
              "<html>\n",
              "<head><meta charset=\"utf-8\" /></head>\n",
              "<body>\n",
              "    <div>            <script src=\"https://cdnjs.cloudflare.com/ajax/libs/mathjax/2.7.5/MathJax.js?config=TeX-AMS-MML_SVG\"></script><script type=\"text/javascript\">if (window.MathJax && window.MathJax.Hub && window.MathJax.Hub.Config) {window.MathJax.Hub.Config({SVG: {font: \"STIX-Web\"}});}</script>                <script type=\"text/javascript\">window.PlotlyConfig = {MathJaxConfig: 'local'};</script>\n",
              "        <script charset=\"utf-8\" src=\"https://cdn.plot.ly/plotly-2.24.1.min.js\"></script>                <div id=\"fee469d1-87fc-480e-bb47-825abedc9d74\" class=\"plotly-graph-div\" style=\"height:525px; width:100%;\"></div>            <script type=\"text/javascript\">                                    window.PLOTLYENV=window.PLOTLYENV || {};                                    if (document.getElementById(\"fee469d1-87fc-480e-bb47-825abedc9d74\")) {                    Plotly.newPlot(                        \"fee469d1-87fc-480e-bb47-825abedc9d74\",                        [{\"customdata\":[[\"George Munger was an American football p\\u003cbr\\u003elayer and coach who attended the Univers\\u003cbr\\u003eity of Pennsylvania, Episcopal Academy, \\u003cbr\\u003eand The Hill School, and coached the Pen\\u003cbr\\u003en Quakers football team from 1938 to 195\\u003cbr\\u003e3, compiling a record of 82-42-10.\"],[\"Jerome Allen (basketball) graduated from\\u003cbr\\u003e Episcopal Academy and played profession\\u003cbr\\u003eal basketball from 1995-2009; he then se\\u003cbr\\u003erved as the head coach for Penn Quakers \\u003cbr\\u003emen's basketball from 2009-2015 and was \\u003cbr\\u003ean assistant coach for the Boston Celtic\\u003cbr\\u003es from 2015-\"],[\"Alan W. Lukens graduated from the Episco\\u003cbr\\u003epal Academy in 1942 and served in the U.\\u003cbr\\u003eS. Army during World War II before joini\\u003cbr\\u003eng the Foreign Service in 1951 and worki\\u003cbr\\u003eng in various diplomatic posts throughou\\u003cbr\\u003et Africa.\"],[\"Henry G. Morse graduated from the Episco\\u003cbr\\u003epal Academy near Philadelphia and studie\\u003cbr\\u003ed architecture at the Massachusetts Inst\\u003cbr\\u003eitute of Technology, before establishing\\u003cbr\\u003e himself as an architect in New York Cit\\u003cbr\\u003ey, designing and relocating two English \\u003cbr\\u003emanor houses to Richmond, Virginia.\"],[\"and Contradiction in Architecture''; 196\\u003cbr\\u003e7\\n* [[Charles F. Peterson Prize]] for th\\u003cbr\\u003ee restoration of the [[Fisher Fine Arts \\u003cbr\\u003eLibrary]]; 1980\\n* Thomas Jefferson Medal\\u003cbr\\u003e for Architecture, University of Virgini\\u003cbr\\u003ea; 1984\\n* [[AIA Gold\"],[\"Morrison Heckscher is an American art hi\\u003cbr\\u003estorian, curator and chair of the Americ\\u003cbr\\u003ean Wing at the Metropolitan Museum of Ar\\u003cbr\\u003et from 2001 to 2014 who received numerou\\u003cbr\\u003es awards, including the Antique Dealers'\\u003cbr\\u003e Association Award of Merit and the Wint\\u003cbr\\u003eer\"],[\"Brian Dougherty\\n\\n Brian Dougherty is a r\\u003cbr\\u003eetired Hall of Fame American lacrosse go\\u003cbr\\u003ealtender who attended The Episcopal Acad\\u003cbr\\u003eemy and the University of Maryland, and \\u003cbr\\u003eis currently the Head Coach at Springsid\\u003cbr\\u003ee Chestnut Hill Academy.\"],[\"George David graduated from Harvard Univ\\u003cbr\\u003eersity in 1966 and received an M.B.A. fr\\u003cbr\\u003eom the University of Virginia's Darden G\\u003cbr\\u003eraduate School of Business Administratio\\u003cbr\\u003en in 1968. He worked for the Boston Cons\\u003cbr\\u003eulting Group before joining UTC's Otis E\\u003cbr\\u003elevator\"],[\"Gerald Henderson Jr. graduated from the \\u003cbr\\u003eEpiscopal Academy in 2006 and had a succ\\u003cbr\\u003eessful professional basketball career in\\u003cbr\\u003e the NBA from 2009 to 2017.\"],[\"laws, the President enforces them, and t\\u003cbr\\u003ehe courts interpret them. But this trian\\u003cbr\\u003egle of powers breaks down during wartime\\u003cbr\\u003e. For reasons dating back to [[ancient R\\u003cbr\\u003eome]], the framers of the [[United State\\u003cbr\\u003es Constitution]] believed that the Presi\\u003cbr\\u003edent must\"],[\"Chance's design was chosen as the Americ\\u003cbr\\u003ea's Cup defender.\\u003cref name=\\\":7\\\" \\u002f\\u003e\\n\\nChan\\u003cbr\\u003ece was the principal designer for the ''\\u003cbr\\u003e[[Stars & Stripes 87]]'', which won the \\u003cbr\\u003e''[[1988 Louis Vuitton Cup]]''\"],[\"Kyle Eckel graduated from the Naval Acad\\u003cbr\\u003eemy in 2005 and went on to have a succes\\u003cbr\\u003esful career as a fullback in the NFL, wi\\u003cbr\\u003enning Super Bowl XLIV with the New Orlea\\u003cbr\\u003ens Saints.\"],[\"Maury Henry Biddle Paul was an American \\u003cbr\\u003ejournalist and society columnist for the\\u003cbr\\u003e New York American who coined the term \\\"\\u003cbr\\u003eCaf\\u00e9 society\\\" and was the first to write\\u003cbr\\u003e under the pseudonym \\\"Cholly Knickerbock\\u003cbr\\u003eer\\\" until his death\"],[\"Charles L. Tutt Sr., a former Pennsylvan\\u003cbr\\u003eia Railroad clerk, attended Episcopal Ac\\u003cbr\\u003eademy, migrated to Colorado Springs, and\\u003cbr\\u003e became a wealthy businessman through hi\\u003cbr\\u003es real estate, insurance, and mining ven\\u003cbr\\u003etures, and his son Charles L. Tutt Jr.\"],[\"Edward Vick is a former US naval officer\\u003cbr\\u003e, business executive, and volunteer advo\\u003cbr\\u003ecate for veterans' causes who served two\\u003cbr\\u003e tours of duty during the Vietnam War an\\u003cbr\\u003ed received two Bronze Star Medals, the C\\u003cbr\\u003eombat Action Ribbon, the Presidential Un\\u003cbr\\u003eit Citation, and the\"],[\"Anthony Apesos is an American painter an\\u003cbr\\u003ed professor of Fine Arts at the Art Inst\\u003cbr\\u003eitute of Boston at Lesley University, gr\\u003cbr\\u003eaduating from Vassar College in Religion\\u003cbr\\u003e and receiving an M.F.A. from the Milton\\u003cbr\\u003e Avery Graduate School of\"],[\"* ''The American Adam: Innocence, Traged\\u003cbr\\u003ey and Tradition in the Nineteenth Centur\\u003cbr\\u003ey'' (1998)\\n\\nR. W. B. Lewis was an Americ\\u003cbr\\u003ean literary scholar and critic who earne\\u003cbr\\u003ed a Pulitzer Prize, National Book Critic\\u003cbr\\u003es\"],[\"Bruiser Flint graduated from Saint Josep\\u003cbr\\u003eh's University in 1987 and went on to wo\\u003cbr\\u003erk as an assistant coach at Coppin State\\u003cbr\\u003e and UMass, becoming the head coach of U\\u003cbr\\u003eMass in 1996. He then served as the head\\u003cbr\\u003e coach of\"],[\"Boies Penrose graduated from Harvard Uni\\u003cbr\\u003eversity in 1881 and served in both house\\u003cbr\\u003es of the Pennsylvania legislature before\\u003cbr\\u003e being elected to the United States Sena\\u003cbr\\u003ete from 1897 to 1921, where he was a dom\\u003cbr\\u003einant member of the Senate Finance Commi\\u003cbr\\u003ettee.\"],[\"Benjamin H. Read was a lawyer, public de\\u003cbr\\u003efender, legislative assistant, executive\\u003cbr\\u003e secretary, director of the Woodrow Wils\\u003cbr\\u003eon International Center for Scholars, pr\\u003cbr\\u003eesident of the German Marshall Fund and \\u003cbr\\u003eUnder Secretary of State for Management \\u003cbr\\u003efrom 1978 to 1981, before\"],[\"Robert A. Masciantonio is an American sc\\u003cbr\\u003ereenwriter, director, producer, and acto\\u003cbr\\u003er who graduated from Episcopal Academy a\\u003cbr\\u003end studied film at Temple University, re\\u003cbr\\u003eceiving the Silver Reel Award for his sh\\u003cbr\\u003eort film Jerks.\"],[\"walk with a \\\"slight limp\\\".\\n\\nIn a 1932 in\\u003cbr\\u003eterview, Barrymore said he had suffered \\u003cbr\\u003efrom arthritis since at least the age of\\u003cbr\\u003e 16 and had been using crutches since ag\\u003cbr\\u003ee 20. By 1940, his arthritis was so adva\\u003cbr\\u003enced that\"],[\"Ralph Earle II was an American lawyer, d\\u003cbr\\u003eiplomat and arms control negotiator, who\\u003cbr\\u003e was a key architect of several major in\\u003cbr\\u003eternational arms control accords, was th\\u003cbr\\u003ee United States' chief negotiator at the\\u003cbr\\u003e SALT II round of talks from 1978 to\"],[\"Laird Cregar was an American actor best \\u003cbr\\u003eknown for his villainous performances in\\u003cbr\\u003e films such as I Wake Up Screaming (1941\\u003cbr\\u003e) and The Lodger (1944). After graduatin\\u003cbr\\u003eg from the Episcopal Academy in Philadel\\u003cbr\\u003ephia, he began\"],[\"John Charles Groome was the first Commis\\u003cbr\\u003esioner of the Pennsylvania State Police \\u003cbr\\u003efrom 1905 to 1917, and Warden of Eastern\\u003cbr\\u003e State Penitentiary, and a Colonel in Wo\\u003cbr\\u003erld War I, graduating from the Protestan\\u003cbr\\u003et Episcopal Academy in 1878.\"],[\"Charles Bingham Penrose was a renowned A\\u003cbr\\u003emerican gynecologist, surgeon, zoologist\\u003cbr\\u003e, and conservationist who invented the P\\u003cbr\\u003eenrose drain, was a professor at the Uni\\u003cbr\\u003eversity of Pennsylvania, and wrote sever\\u003cbr\\u003eal editions of a textbook on medical pro\\u003cbr\\u003eblems in women\"],[\"de Grasse]] (1917, based on the novel ''\\u003cbr\\u003eThe Scarlet Car'')\\u003c!--4 November 1917--\\u003e\\u003cbr\\u003e\\n*''[[The Lost Road]]'', directed by [[J\\u003cbr\\u003eoseph de Grasse]] (1917, based on the no\\u003cbr\\u003evel\"],[\"Peter Y. Solmssen is an American lawyer \\u003cbr\\u003eand business executive, best known for h\\u003cbr\\u003eaving negotiated simultaneous settlement\\u003cbr\\u003es of the Siemens corruption prosecutions\\u003cbr\\u003e and for leading a global campaign again\\u003cbr\\u003est bribery, having graduated from The Ep\\u003cbr\\u003eiscopal Academy in 1972, the University\"],[\"Brian Tierney graduated from the Univers\\u003cbr\\u003eity of Pennsylvania with a BA in 1979, a\\u003cbr\\u003end Widener University with a JD in 1987,\\u003cbr\\u003e and was Chief Executive of Philadelphia\\u003cbr\\u003e Media Holdings and Publisher of the Phi\\u003cbr\\u003eladelphia Inquirer from 2006-2010.\"],[\"]].\\n\\nM. Night Shyamalan graduated from o\\u003cbr\\u003er attended Episcopal Academy in 1988 and\\u003cbr\\u003e New York University Tisch School of the\\u003cbr\\u003e Arts in 1992. He is an American filmmak\\u003cbr\\u003eer, producer and screenwriter, best know\\u003cbr\\u003en for making original films with contemp\\u003cbr\\u003eorary\"],[\"Greg Isdaner graduated from West Virgini\\u003cbr\\u003ea in 2009 and was a professional footbal\\u003cbr\\u003el player with the Dallas Cowboys, Philad\\u003cbr\\u003eelphia Eagles and Hartford Colonials.\"],[\"Sarah Steele is an American actress, kno\\u003cbr\\u003ewn for her role as Marissa Gold on the C\\u003cbr\\u003eBS legal drama series The Good Wife (201\\u003cbr\\u003e1\\u20132016) and its CBS All Access spinoff s\\u003cbr\\u003eeries The Good Fight (2017\\u20132022), who gr\\u003cbr\\u003eaduated\"],[\"This list of Episcopal Academy people in\\u003cbr\\u003ecludes prominent alumni and faculty from\\u003cbr\\u003e the co-educational school who have achi\\u003cbr\\u003eeved success in the fields of art and me\\u003cbr\\u003edia, athletics, business and technology,\\u003cbr\\u003e government, and other areas. Many have \\u003cbr\\u003ewon awards such as\"],[\"He was survived by his wife Chara, and h\\u003cbr\\u003eis five children.\\u003cref name=InquirerObitu\\u003cbr\\u003eary\\u002f\\u003e\\n\\nJohn C. Haas was an American busi\\u003cbr\\u003enessman and philanthropist who served as\\u003cbr\\u003e the chairman of global chemical company\\u003cbr\\u003e Rohm and Haas\"],[\"|| 1.9 || 1.2 || .6 || .0 || 6.7\\n|-\\n| st\\u003cbr\\u003eyle=\\\"text-align:left;\\\"|{{nbay|2012}}\\n| s\\u003cbr\\u003etyle=\\\"text-align:left;\\\"|[[\"],[\"Harold Bright Maynard was an American in\\u003cbr\\u003edustrial engineer, consulting engineer, \\u003cbr\\u003eand management author, who was employed \\u003cbr\\u003eat Westinghouse Electric Corporation fro\\u003cbr\\u003em 1923-1929 and founded the consulting f\\u003cbr\\u003eirm Methods Engineering Council in 1934.\\u003cbr\\u003e He was awarded the Henry\"],[\"Spencer Penrose was an American entrepre\\u003cbr\\u003eneur and philanthropist who made his for\\u003cbr\\u003etune from mining, ore processing, and re\\u003cbr\\u003eal estate speculation in Colorado and be\\u003cbr\\u003eyond. He established the Utah Copper Com\\u003cbr\\u003epany in 1903 and founded the El Pomar Fo\\u003cbr\\u003eundation in 1937\"],[\"Thomas K. Finletter was an American lawy\\u003cbr\\u003eer, politician, and statesman who served\\u003cbr\\u003e as Secretary of the Air Force from 1950\\u003cbr\\u003e to 1953 and Ambassador to NATO from 196\\u003cbr\\u003e1 to 1965, and was also involved in many\\u003cbr\\u003e other political and professional affili\\u003cbr\\u003eations\"],[\"He was also a 2015 MacDowell Colony Fell\\u003cbr\\u003eow and a 2012 [[Tribeca Film Institute|T\\u003cbr\\u003eribeca All Access Creative Promise Award\\u003cbr\\u003e]]ee.\\n\\nSummarize this persons life descr\\u003cbr\\u003eiption in 1 textual sentence with line b\\u003cbr\\u003ereaks every 10 words\"],[\"Eddie Collins Jr. was a professional bas\\u003cbr\\u003eeball outfielder and educator who gradua\\u003cbr\\u003eted from Episcopal Academy and attended \\u003cbr\\u003eYale University, playing for the team th\\u003cbr\\u003eat won the 1937 Ivy League championship \\u003cbr\\u003ebefore debuting in the Major Leagues for\\u003cbr\\u003e the Philadelphia Athletics in 1939\"],[\".L. Haines Memorial Chapel, Girard Colle\\u003cbr\\u003ege, Philadelphia, PA \\u2013 Extant \\u003csup\\u003e[17]\\u003c\\u003cbr\\u003e\\u002fsup\\u003eWalter Horstmann Thomas\\n\\nWalter Hor\\u003cbr\\u003estmann Thomas was an American architect \\u003cbr\\u003efrom Philadelphia whose career sp\"],[\"John C. Bell Jr. was a lawyer, politicia\\u003cbr\\u003en, and judge, serving as the 33rd Govern\\u003cbr\\u003eor of Pennsylvania for 19 days in 1947 a\\u003cbr\\u003end as Chief Justice of the Supreme Court\\u003cbr\\u003e of Pennsylvania from 1961 to 1972.\"],[\"Louisa Hall is an American novelist, poe\\u003cbr\\u003et, and former professional squash player\\u003cbr\\u003e who graduated from Harvard University i\\u003cbr\\u003en 2004 and earned a PhD in literature fr\\u003cbr\\u003eom the University of Texas at Austin in \\u003cbr\\u003e2013.\"],[null],[\"Scott Murphy was a hematologist, medical\\u003cbr\\u003e researcher, and professor of medicine w\\u003cbr\\u003eho graduated from Yale University in 195\\u003cbr\\u003e8 and Columbia University in 1962. He wo\\u003cbr\\u003erked at the University of Pennsylvania, \\u003cbr\\u003eCardeza Foundation for Hematology Resear\\u003cbr\\u003ech, and American\"],[\"Scott Murphy (physician) graduated from \\u003cbr\\u003eHarvard Medical School in 1967 and is a \\u003cbr\\u003ehighly acclaimed physician, having publi\\u003cbr\\u003eshed multiple works in notable medical j\\u003cbr\\u003eournals such as the New England Journal \\u003cbr\\u003eof Medicine.\"]],\"hovertemplate\":\"\\u003cb\\u003e%{hovertext}\\u003c\\u002fb\\u003e\\u003cbr\\u003e\\u003cbr\\u003eX=%{x}\\u003cbr\\u003eY=%{y}\\u003cbr\\u003eSummary=%{customdata[0]}\\u003cextra\\u003e\\u003c\\u002fextra\\u003e\",\"hovertext\":[\"George Munger (American football)\",\"Jerome Allen (basketball)\",\"Alan W. Lukens\",\"Henry G. Morse\",\"Robert Venturi\",\"Morrison Heckscher\",\"Brian Dougherty\",\"George David\",\"Gerald Henderson Jr.\",\"John Yoo\",\"Britton Chance Jr.\",\"Kyle Eckel\",\"Maury Henry Biddle Paul\",\"Charles L. Tutt Sr.\",\"Edward Vick\",\"Anthony Apesos\",\"R. W. B. Lewis\",\"Bruiser Flint\",\"Boies Penrose\",\"Benjamin H. Read\",\"Robert A. Masciantonio\",\"Lionel Barrymore\",\"Ralph Earle (ambassador)\",\"Laird Cregar\",\"John Charles Groome (police officer)\",\"Charles Bingham Penrose\",\"Richard Harding Davis\",\"Peter Y. Solmssen\",\"Brian Tierney\",\"M. Night Shyamalan\",\"Greg Isdaner\",\"Sarah Steele\",\"List of Episcopal Academy people\",\"John C. Haas\",\"Wayne Ellington\",\"Harold Bright Maynard\",\"Spencer Penrose\",\"Thomas K. Finletter\",\"Mark Kendall (artist)\",\"Eddie Collins Jr.\",\"Walter Horstmann Thomas\",\"John C. Bell Jr.\",\"Louisa Hall\",\"John Carradine\",\"Scott Murphy (physician)\",\"Scott Murphy (physician)\"],\"legendgroup\":\"\",\"marker\":{\"color\":\"blue\",\"symbol\":\"circle\"},\"mode\":\"markers\",\"name\":\"\",\"orientation\":\"v\",\"showlegend\":false,\"x\":[49.450191497802734,58.92747116088867,31.87759780883789,1.2022756338119507,-9.988846778869629,-20.295034408569336,-1.469805359840393,15.839041709899902,47.20454406738281,55.1214714050293,6.70579719543457,25.08057975769043,6.011584281921387,93.14724731445312,15.99356460571289,-35.7442626953125,-18.884227752685547,68.4135971069336,70.01268768310547,18.42325782775879,-46.25424575805664,-6.679386138916016,29.635498046875,-11.517447471618652,49.88401412963867,80.69418334960938,-5.373843193054199,66.82518005371094,-11.104986190795898,-48.778038024902344,41.294586181640625,-45.63823318481445,20.735546112060547,-5.64634370803833,59.268394470214844,13.365081787109375,83.80847930908203,37.854801177978516,-33.73591232299805,7.210680961608887,-8.299262046813965,44.91096115112305,-29.725051879882812,-21.345243453979492,47.15404510498047,48.242103576660156],\"xaxis\":\"x\",\"y\":[37.578392028808594,61.58311080932617,-34.23812484741211,12.744155883789062,33.25059127807617,3.207427740097046,82.91720581054688,-2.3183178901672363,69.90216827392578,-25.26108741760254,31.523954391479492,56.1065559387207,-39.81330871582031,-12.175575256347656,50.47019577026367,30.85746192932129,-27.497772216796875,54.82573318481445,0.6693610548973083,-19.705625534057617,27.604541778564453,-53.3278694152832,-22.462364196777344,-66.1130142211914,11.485407829284668,8.379096031188965,-30.725208282470703,-27.536184310913086,77.9024429321289,8.563931465148926,46.79844284057617,-27.776185989379883,75.95539855957031,-3.9377105236053467,74.41753387451172,13.348176002502441,-3.1516973972320557,-10.652904510498047,7.186916828155518,59.339298248291016,17.521120071411133,1.6650110483169556,-24.649038314819336,-59.556190490722656,-64.40921020507812,-73.59857177734375],\"yaxis\":\"y\",\"type\":\"scatter\"}],                        {\"template\":{\"data\":{\"histogram2dcontour\":[{\"type\":\"histogram2dcontour\",\"colorbar\":{\"outlinewidth\":0,\"ticks\":\"\"},\"colorscale\":[[0.0,\"#0d0887\"],[0.1111111111111111,\"#46039f\"],[0.2222222222222222,\"#7201a8\"],[0.3333333333333333,\"#9c179e\"],[0.4444444444444444,\"#bd3786\"],[0.5555555555555556,\"#d8576b\"],[0.6666666666666666,\"#ed7953\"],[0.7777777777777778,\"#fb9f3a\"],[0.8888888888888888,\"#fdca26\"],[1.0,\"#f0f921\"]]}],\"choropleth\":[{\"type\":\"choropleth\",\"colorbar\":{\"outlinewidth\":0,\"ticks\":\"\"}}],\"histogram2d\":[{\"type\":\"histogram2d\",\"colorbar\":{\"outlinewidth\":0,\"ticks\":\"\"},\"colorscale\":[[0.0,\"#0d0887\"],[0.1111111111111111,\"#46039f\"],[0.2222222222222222,\"#7201a8\"],[0.3333333333333333,\"#9c179e\"],[0.4444444444444444,\"#bd3786\"],[0.5555555555555556,\"#d8576b\"],[0.6666666666666666,\"#ed7953\"],[0.7777777777777778,\"#fb9f3a\"],[0.8888888888888888,\"#fdca26\"],[1.0,\"#f0f921\"]]}],\"heatmap\":[{\"type\":\"heatmap\",\"colorbar\":{\"outlinewidth\":0,\"ticks\":\"\"},\"colorscale\":[[0.0,\"#0d0887\"],[0.1111111111111111,\"#46039f\"],[0.2222222222222222,\"#7201a8\"],[0.3333333333333333,\"#9c179e\"],[0.4444444444444444,\"#bd3786\"],[0.5555555555555556,\"#d8576b\"],[0.6666666666666666,\"#ed7953\"],[0.7777777777777778,\"#fb9f3a\"],[0.8888888888888888,\"#fdca26\"],[1.0,\"#f0f921\"]]}],\"heatmapgl\":[{\"type\":\"heatmapgl\",\"colorbar\":{\"outlinewidth\":0,\"ticks\":\"\"},\"colorscale\":[[0.0,\"#0d0887\"],[0.1111111111111111,\"#46039f\"],[0.2222222222222222,\"#7201a8\"],[0.3333333333333333,\"#9c179e\"],[0.4444444444444444,\"#bd3786\"],[0.5555555555555556,\"#d8576b\"],[0.6666666666666666,\"#ed7953\"],[0.7777777777777778,\"#fb9f3a\"],[0.8888888888888888,\"#fdca26\"],[1.0,\"#f0f921\"]]}],\"contourcarpet\":[{\"type\":\"contourcarpet\",\"colorbar\":{\"outlinewidth\":0,\"ticks\":\"\"}}],\"contour\":[{\"type\":\"contour\",\"colorbar\":{\"outlinewidth\":0,\"ticks\":\"\"},\"colorscale\":[[0.0,\"#0d0887\"],[0.1111111111111111,\"#46039f\"],[0.2222222222222222,\"#7201a8\"],[0.3333333333333333,\"#9c179e\"],[0.4444444444444444,\"#bd3786\"],[0.5555555555555556,\"#d8576b\"],[0.6666666666666666,\"#ed7953\"],[0.7777777777777778,\"#fb9f3a\"],[0.8888888888888888,\"#fdca26\"],[1.0,\"#f0f921\"]]}],\"surface\":[{\"type\":\"surface\",\"colorbar\":{\"outlinewidth\":0,\"ticks\":\"\"},\"colorscale\":[[0.0,\"#0d0887\"],[0.1111111111111111,\"#46039f\"],[0.2222222222222222,\"#7201a8\"],[0.3333333333333333,\"#9c179e\"],[0.4444444444444444,\"#bd3786\"],[0.5555555555555556,\"#d8576b\"],[0.6666666666666666,\"#ed7953\"],[0.7777777777777778,\"#fb9f3a\"],[0.8888888888888888,\"#fdca26\"],[1.0,\"#f0f921\"]]}],\"mesh3d\":[{\"type\":\"mesh3d\",\"colorbar\":{\"outlinewidth\":0,\"ticks\":\"\"}}],\"scatter\":[{\"fillpattern\":{\"fillmode\":\"overlay\",\"size\":10,\"solidity\":0.2},\"type\":\"scatter\"}],\"parcoords\":[{\"type\":\"parcoords\",\"line\":{\"colorbar\":{\"outlinewidth\":0,\"ticks\":\"\"}}}],\"scatterpolargl\":[{\"type\":\"scatterpolargl\",\"marker\":{\"colorbar\":{\"outlinewidth\":0,\"ticks\":\"\"}}}],\"bar\":[{\"error_x\":{\"color\":\"#2a3f5f\"},\"error_y\":{\"color\":\"#2a3f5f\"},\"marker\":{\"line\":{\"color\":\"#E5ECF6\",\"width\":0.5},\"pattern\":{\"fillmode\":\"overlay\",\"size\":10,\"solidity\":0.2}},\"type\":\"bar\"}],\"scattergeo\":[{\"type\":\"scattergeo\",\"marker\":{\"colorbar\":{\"outlinewidth\":0,\"ticks\":\"\"}}}],\"scatterpolar\":[{\"type\":\"scatterpolar\",\"marker\":{\"colorbar\":{\"outlinewidth\":0,\"ticks\":\"\"}}}],\"histogram\":[{\"marker\":{\"pattern\":{\"fillmode\":\"overlay\",\"size\":10,\"solidity\":0.2}},\"type\":\"histogram\"}],\"scattergl\":[{\"type\":\"scattergl\",\"marker\":{\"colorbar\":{\"outlinewidth\":0,\"ticks\":\"\"}}}],\"scatter3d\":[{\"type\":\"scatter3d\",\"line\":{\"colorbar\":{\"outlinewidth\":0,\"ticks\":\"\"}},\"marker\":{\"colorbar\":{\"outlinewidth\":0,\"ticks\":\"\"}}}],\"scattermapbox\":[{\"type\":\"scattermapbox\",\"marker\":{\"colorbar\":{\"outlinewidth\":0,\"ticks\":\"\"}}}],\"scatterternary\":[{\"type\":\"scatterternary\",\"marker\":{\"colorbar\":{\"outlinewidth\":0,\"ticks\":\"\"}}}],\"scattercarpet\":[{\"type\":\"scattercarpet\",\"marker\":{\"colorbar\":{\"outlinewidth\":0,\"ticks\":\"\"}}}],\"carpet\":[{\"aaxis\":{\"endlinecolor\":\"#2a3f5f\",\"gridcolor\":\"white\",\"linecolor\":\"white\",\"minorgridcolor\":\"white\",\"startlinecolor\":\"#2a3f5f\"},\"baxis\":{\"endlinecolor\":\"#2a3f5f\",\"gridcolor\":\"white\",\"linecolor\":\"white\",\"minorgridcolor\":\"white\",\"startlinecolor\":\"#2a3f5f\"},\"type\":\"carpet\"}],\"table\":[{\"cells\":{\"fill\":{\"color\":\"#EBF0F8\"},\"line\":{\"color\":\"white\"}},\"header\":{\"fill\":{\"color\":\"#C8D4E3\"},\"line\":{\"color\":\"white\"}},\"type\":\"table\"}],\"barpolar\":[{\"marker\":{\"line\":{\"color\":\"#E5ECF6\",\"width\":0.5},\"pattern\":{\"fillmode\":\"overlay\",\"size\":10,\"solidity\":0.2}},\"type\":\"barpolar\"}],\"pie\":[{\"automargin\":true,\"type\":\"pie\"}]},\"layout\":{\"autotypenumbers\":\"strict\",\"colorway\":[\"#636efa\",\"#EF553B\",\"#00cc96\",\"#ab63fa\",\"#FFA15A\",\"#19d3f3\",\"#FF6692\",\"#B6E880\",\"#FF97FF\",\"#FECB52\"],\"font\":{\"color\":\"#2a3f5f\"},\"hovermode\":\"closest\",\"hoverlabel\":{\"align\":\"left\"},\"paper_bgcolor\":\"white\",\"plot_bgcolor\":\"#E5ECF6\",\"polar\":{\"bgcolor\":\"#E5ECF6\",\"angularaxis\":{\"gridcolor\":\"white\",\"linecolor\":\"white\",\"ticks\":\"\"},\"radialaxis\":{\"gridcolor\":\"white\",\"linecolor\":\"white\",\"ticks\":\"\"}},\"ternary\":{\"bgcolor\":\"#E5ECF6\",\"aaxis\":{\"gridcolor\":\"white\",\"linecolor\":\"white\",\"ticks\":\"\"},\"baxis\":{\"gridcolor\":\"white\",\"linecolor\":\"white\",\"ticks\":\"\"},\"caxis\":{\"gridcolor\":\"white\",\"linecolor\":\"white\",\"ticks\":\"\"}},\"coloraxis\":{\"colorbar\":{\"outlinewidth\":0,\"ticks\":\"\"}},\"colorscale\":{\"sequential\":[[0.0,\"#0d0887\"],[0.1111111111111111,\"#46039f\"],[0.2222222222222222,\"#7201a8\"],[0.3333333333333333,\"#9c179e\"],[0.4444444444444444,\"#bd3786\"],[0.5555555555555556,\"#d8576b\"],[0.6666666666666666,\"#ed7953\"],[0.7777777777777778,\"#fb9f3a\"],[0.8888888888888888,\"#fdca26\"],[1.0,\"#f0f921\"]],\"sequentialminus\":[[0.0,\"#0d0887\"],[0.1111111111111111,\"#46039f\"],[0.2222222222222222,\"#7201a8\"],[0.3333333333333333,\"#9c179e\"],[0.4444444444444444,\"#bd3786\"],[0.5555555555555556,\"#d8576b\"],[0.6666666666666666,\"#ed7953\"],[0.7777777777777778,\"#fb9f3a\"],[0.8888888888888888,\"#fdca26\"],[1.0,\"#f0f921\"]],\"diverging\":[[0,\"#8e0152\"],[0.1,\"#c51b7d\"],[0.2,\"#de77ae\"],[0.3,\"#f1b6da\"],[0.4,\"#fde0ef\"],[0.5,\"#f7f7f7\"],[0.6,\"#e6f5d0\"],[0.7,\"#b8e186\"],[0.8,\"#7fbc41\"],[0.9,\"#4d9221\"],[1,\"#276419\"]]},\"xaxis\":{\"gridcolor\":\"white\",\"linecolor\":\"white\",\"ticks\":\"\",\"title\":{\"standoff\":15},\"zerolinecolor\":\"white\",\"automargin\":true,\"zerolinewidth\":2},\"yaxis\":{\"gridcolor\":\"white\",\"linecolor\":\"white\",\"ticks\":\"\",\"title\":{\"standoff\":15},\"zerolinecolor\":\"white\",\"automargin\":true,\"zerolinewidth\":2},\"scene\":{\"xaxis\":{\"backgroundcolor\":\"#E5ECF6\",\"gridcolor\":\"white\",\"linecolor\":\"white\",\"showbackground\":true,\"ticks\":\"\",\"zerolinecolor\":\"white\",\"gridwidth\":2},\"yaxis\":{\"backgroundcolor\":\"#E5ECF6\",\"gridcolor\":\"white\",\"linecolor\":\"white\",\"showbackground\":true,\"ticks\":\"\",\"zerolinecolor\":\"white\",\"gridwidth\":2},\"zaxis\":{\"backgroundcolor\":\"#E5ECF6\",\"gridcolor\":\"white\",\"linecolor\":\"white\",\"showbackground\":true,\"ticks\":\"\",\"zerolinecolor\":\"white\",\"gridwidth\":2}},\"shapedefaults\":{\"line\":{\"color\":\"#2a3f5f\"}},\"annotationdefaults\":{\"arrowcolor\":\"#2a3f5f\",\"arrowhead\":0,\"arrowwidth\":1},\"geo\":{\"bgcolor\":\"white\",\"landcolor\":\"#E5ECF6\",\"subunitcolor\":\"white\",\"showland\":true,\"showlakes\":true,\"lakecolor\":\"white\"},\"title\":{\"x\":0.05},\"mapbox\":{\"style\":\"light\"}}},\"xaxis\":{\"anchor\":\"y\",\"domain\":[0.0,1.0],\"title\":{\"text\":\"X\"}},\"yaxis\":{\"anchor\":\"x\",\"domain\":[0.0,1.0],\"title\":{\"text\":\"Y\"}},\"legend\":{\"tracegroupgap\":0},\"margin\":{\"t\":60},\"title\":{\"text\":\"Alumni similarity visualized using t-SNE\"},\"showlegend\":false},                        {\"responsive\": true}                    ).then(function(){\n",
              "                            \n",
              "var gd = document.getElementById('fee469d1-87fc-480e-bb47-825abedc9d74');\n",
              "var x = new MutationObserver(function (mutations, observer) {{\n",
              "        var display = window.getComputedStyle(gd).display;\n",
              "        if (!display || display === 'none') {{\n",
              "            console.log([gd, 'removed!']);\n",
              "            Plotly.purge(gd);\n",
              "            observer.disconnect();\n",
              "        }}\n",
              "}});\n",
              "\n",
              "// Listen for the removal of the full notebook cells\n",
              "var notebookContainer = gd.closest('#notebook-container');\n",
              "if (notebookContainer) {{\n",
              "    x.observe(notebookContainer, {childList: true});\n",
              "}}\n",
              "\n",
              "// Listen for the clearing of the current output cell\n",
              "var outputEl = gd.closest('.output');\n",
              "if (outputEl) {{\n",
              "    x.observe(outputEl, {childList: true});\n",
              "}}\n",
              "\n",
              "                        })                };                            </script>        </div>\n",
              "</body>\n",
              "</html>"
            ]
          },
          "metadata": {}
        }
      ]
    },
    {
      "cell_type": "code",
      "source": [
        "html_file_path = \"/content/plotly_chart.html\"  # Specify your desired file path\n",
        "fig.write_html(html_file_path)\n"
      ],
      "metadata": {
        "id": "nA3_9RoP9sSq"
      },
      "execution_count": 28,
      "outputs": []
    },
    {
      "cell_type": "code",
      "source": [
        "from google.colab import files\n",
        "files.download(html_file_path)"
      ],
      "metadata": {
        "colab": {
          "base_uri": "https://localhost:8080/",
          "height": 17
        },
        "id": "TptzdeG9_RN_",
        "outputId": "d2ea8fb7-55ae-4b11-9e15-acb6e3d68c0b"
      },
      "execution_count": 29,
      "outputs": [
        {
          "output_type": "display_data",
          "data": {
            "text/plain": [
              "<IPython.core.display.Javascript object>"
            ],
            "application/javascript": [
              "\n",
              "    async function download(id, filename, size) {\n",
              "      if (!google.colab.kernel.accessAllowed) {\n",
              "        return;\n",
              "      }\n",
              "      const div = document.createElement('div');\n",
              "      const label = document.createElement('label');\n",
              "      label.textContent = `Downloading \"${filename}\": `;\n",
              "      div.appendChild(label);\n",
              "      const progress = document.createElement('progress');\n",
              "      progress.max = size;\n",
              "      div.appendChild(progress);\n",
              "      document.body.appendChild(div);\n",
              "\n",
              "      const buffers = [];\n",
              "      let downloaded = 0;\n",
              "\n",
              "      const channel = await google.colab.kernel.comms.open(id);\n",
              "      // Send a message to notify the kernel that we're ready.\n",
              "      channel.send({})\n",
              "\n",
              "      for await (const message of channel.messages) {\n",
              "        // Send a message to notify the kernel that we're ready.\n",
              "        channel.send({})\n",
              "        if (message.buffers) {\n",
              "          for (const buffer of message.buffers) {\n",
              "            buffers.push(buffer);\n",
              "            downloaded += buffer.byteLength;\n",
              "            progress.value = downloaded;\n",
              "          }\n",
              "        }\n",
              "      }\n",
              "      const blob = new Blob(buffers, {type: 'application/binary'});\n",
              "      const a = document.createElement('a');\n",
              "      a.href = window.URL.createObjectURL(blob);\n",
              "      a.download = filename;\n",
              "      div.appendChild(a);\n",
              "      a.click();\n",
              "      div.remove();\n",
              "    }\n",
              "  "
            ]
          },
          "metadata": {}
        },
        {
          "output_type": "display_data",
          "data": {
            "text/plain": [
              "<IPython.core.display.Javascript object>"
            ],
            "application/javascript": [
              "download(\"download_dbf5d648-013a-4f98-b594-4d090164ce8f\", \"plotly_chart.html\", 3610757)"
            ]
          },
          "metadata": {}
        }
      ]
    }
  ],
  "metadata": {
    "kernelspec": {
      "display_name": "openai",
      "language": "python",
      "name": "python3"
    },
    "language_info": {
      "codemirror_mode": {
        "name": "ipython",
        "version": 3
      },
      "file_extension": ".py",
      "mimetype": "text/x-python",
      "name": "python",
      "nbconvert_exporter": "python",
      "pygments_lexer": "ipython3",
      "version": "3.9.9"
    },
    "orig_nbformat": 4,
    "vscode": {
      "interpreter": {
        "hash": "365536dcbde60510dc9073d6b991cd35db2d9bac356a11f5b64279a5e6708b97"
      }
    },
    "colab": {
      "provenance": []
    }
  },
  "nbformat": 4,
  "nbformat_minor": 0
}
